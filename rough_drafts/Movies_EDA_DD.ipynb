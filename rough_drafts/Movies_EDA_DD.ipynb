{
 "cells": [
  {
   "cell_type": "code",
   "execution_count": 14,
   "metadata": {
    "ExecuteTime": {
     "end_time": "2020-07-17T19:44:34.418023Z",
     "start_time": "2020-07-17T19:44:32.213764Z"
    }
   },
   "outputs": [],
   "source": [
    "import pandas as pd\n",
    "import seaborn as sns\n",
    "import matplotlib.pyplot as plt\n",
    "import datetime as dt\n",
    "import numpy as np\n",
    "from scipy.stats import pearsonr\n",
    "%matplotlib inline"
   ]
  },
  {
   "cell_type": "code",
   "execution_count": 3,
   "metadata": {
    "ExecuteTime": {
     "end_time": "2020-07-17T19:45:00.483664Z",
     "start_time": "2020-07-17T19:45:00.320561Z"
    }
   },
   "outputs": [],
   "source": [
    "movie_dates_df = pd.read_csv('movie_release_dates.csv', index_col=0)\n",
    "theaters_df = pd.read_csv('movie_theater_data.csv', index_col=0)\n",
    "awards_df = pd.read_csv('movie_awards.csv', index_col=0)\n",
    "actors_df = pd.read_csv('Actors_Table.csv')\n",
    "directors_df = pd.read_csv('Directors_Table.csv')\n",
    "imdb_base_df = pd.read_csv('IMDb_base.csv')\n",
    "imdb_budgets_df = pd.read_csv('IMDb_budgets.csv')"
   ]
  },
  {
   "cell_type": "code",
   "execution_count": 4,
   "metadata": {},
   "outputs": [],
   "source": [
    "#First remove any movies that had a $0 domestic gross.\n",
    "imdb_budgets_df = imdb_budgets_df[imdb_budgets_df['Domestic Gross'] !=0]"
   ]
  },
  {
   "cell_type": "markdown",
   "metadata": {},
   "source": [
    "First we start by adjusting the production budget, worldwide gross, and domestic gross for inflation, at an average yearly inflation rate of 3.22%."
   ]
  },
  {
   "cell_type": "code",
   "execution_count": 5,
   "metadata": {},
   "outputs": [],
   "source": [
    "#Find the inflation rate.\n",
    "imdb_budgets_df['Production Budget'] = (((2020-imdb_budgets_df['Year'])*.0322)+1)*imdb_budgets_df['Production Budget']\n",
    "imdb_budgets_df['Worldwide Gross'] = (((2020-imdb_budgets_df['Year'])*.0322)+1)*imdb_budgets_df['Worldwide Gross']\n",
    "imdb_budgets_df['Domestic Gross'] = (((2020-imdb_budgets_df['Year'])*.0322)+1)*imdb_budgets_df['Domestic Gross']"
   ]
  },
  {
   "cell_type": "markdown",
   "metadata": {},
   "source": [
    "Next we want to find the net profit and profit margin for each movie to determine profitability."
   ]
  },
  {
   "cell_type": "code",
   "execution_count": 6,
   "metadata": {},
   "outputs": [],
   "source": [
    "#Find the net profit and profit margin.\n",
    "imdb_budgets_df['Net Profit'] = imdb_budgets_df['Worldwide Gross'] - imdb_budgets_df['Production Budget']\n",
    "imdb_budgets_df['Profit Margin'] = imdb_budgets_df['Net Profit'] / imdb_budgets_df['Worldwide Gross']"
   ]
  },
  {
   "cell_type": "code",
   "execution_count": 7,
   "metadata": {},
   "outputs": [],
   "source": [
    "#Create a genre table that separates each value in the genre column in their own rows.\n",
    "imdb_budgets_df['Genre'] = imdb_budgets_df['Genre'].str.split(', ')\n",
    "imdb_budgets_df1 = imdb_budgets_df['Genre'].apply(pd.Series)\n",
    "imdb_budgets_df2 = pd.merge(imdb_budgets_df, imdb_budgets_df1, right_index = True, left_index = True)\n",
    "imdb_budgets_df3 = imdb_budgets_df2.drop(['Genre'], axis = 1)\n",
    "genre_budgets_df = imdb_budgets_df3.melt(id_vars=['Movie', 'Year'], value_vars=[0, 1, 2] ,var_name = ['X'])\n",
    "genre_budgets_df = pd.merge(genre_budgets_df, imdb_budgets_df)\n",
    "genre_budgets_df = genre_budgets_df.drop(['Genre', 'X'], axis=1)\n",
    "genre_budgets_df = genre_budgets_df.drop_duplicates()\n",
    "genre_budgets_df = genre_budgets_df.rename(columns={'value': 'Genre'})\n",
    "genre_budgets_df = genre_budgets_df.dropna()"
   ]
  },
  {
   "cell_type": "markdown",
   "metadata": {},
   "source": [
    "# Question 2: Which movie genres are most commonly produced and does quantity equate to higher net profits?"
   ]
  },
  {
   "cell_type": "markdown",
   "metadata": {},
   "source": [
    "Let's start by determing which genres are the most common among the movies in our dataset. (Note: Most movies fall under multiple genres)"
   ]
  },
  {
   "cell_type": "code",
   "execution_count": 162,
   "metadata": {},
   "outputs": [],
   "source": [
    "#Do a count of all movies grouped by genre.\n",
    "m_by_genre = genre_budgets_df.groupby('Genre', as_index=False)['Movie'].count().sort_values(by='Movie', ascending=False)"
   ]
  },
  {
   "cell_type": "code",
   "execution_count": 163,
   "metadata": {},
   "outputs": [
    {
     "data": {
      "text/html": [
       "<div>\n",
       "<style scoped>\n",
       "    .dataframe tbody tr th:only-of-type {\n",
       "        vertical-align: middle;\n",
       "    }\n",
       "\n",
       "    .dataframe tbody tr th {\n",
       "        vertical-align: top;\n",
       "    }\n",
       "\n",
       "    .dataframe thead th {\n",
       "        text-align: right;\n",
       "    }\n",
       "</style>\n",
       "<table border=\"1\" class=\"dataframe\">\n",
       "  <thead>\n",
       "    <tr style=\"text-align: right;\">\n",
       "      <th></th>\n",
       "      <th>Genre</th>\n",
       "      <th>Movie</th>\n",
       "    </tr>\n",
       "  </thead>\n",
       "  <tbody>\n",
       "    <tr>\n",
       "      <td>6</td>\n",
       "      <td>Drama</td>\n",
       "      <td>1876</td>\n",
       "    </tr>\n",
       "    <tr>\n",
       "      <td>4</td>\n",
       "      <td>Comedy</td>\n",
       "      <td>1444</td>\n",
       "    </tr>\n",
       "    <tr>\n",
       "      <td>0</td>\n",
       "      <td>Action</td>\n",
       "      <td>1045</td>\n",
       "    </tr>\n",
       "    <tr>\n",
       "      <td>1</td>\n",
       "      <td>Adventure</td>\n",
       "      <td>834</td>\n",
       "    </tr>\n",
       "    <tr>\n",
       "      <td>5</td>\n",
       "      <td>Crime</td>\n",
       "      <td>689</td>\n",
       "    </tr>\n",
       "    <tr>\n",
       "      <td>15</td>\n",
       "      <td>Romance</td>\n",
       "      <td>622</td>\n",
       "    </tr>\n",
       "    <tr>\n",
       "      <td>18</td>\n",
       "      <td>Thriller</td>\n",
       "      <td>615</td>\n",
       "    </tr>\n",
       "    <tr>\n",
       "      <td>11</td>\n",
       "      <td>Horror</td>\n",
       "      <td>410</td>\n",
       "    </tr>\n",
       "    <tr>\n",
       "      <td>14</td>\n",
       "      <td>Mystery</td>\n",
       "      <td>356</td>\n",
       "    </tr>\n",
       "    <tr>\n",
       "      <td>16</td>\n",
       "      <td>Sci-Fi</td>\n",
       "      <td>330</td>\n",
       "    </tr>\n",
       "    <tr>\n",
       "      <td>8</td>\n",
       "      <td>Fantasy</td>\n",
       "      <td>324</td>\n",
       "    </tr>\n",
       "    <tr>\n",
       "      <td>3</td>\n",
       "      <td>Biography</td>\n",
       "      <td>294</td>\n",
       "    </tr>\n",
       "    <tr>\n",
       "      <td>7</td>\n",
       "      <td>Family</td>\n",
       "      <td>265</td>\n",
       "    </tr>\n",
       "    <tr>\n",
       "      <td>2</td>\n",
       "      <td>Animation</td>\n",
       "      <td>205</td>\n",
       "    </tr>\n",
       "    <tr>\n",
       "      <td>10</td>\n",
       "      <td>History</td>\n",
       "      <td>123</td>\n",
       "    </tr>\n",
       "    <tr>\n",
       "      <td>12</td>\n",
       "      <td>Music</td>\n",
       "      <td>109</td>\n",
       "    </tr>\n",
       "    <tr>\n",
       "      <td>17</td>\n",
       "      <td>Sport</td>\n",
       "      <td>100</td>\n",
       "    </tr>\n",
       "    <tr>\n",
       "      <td>19</td>\n",
       "      <td>War</td>\n",
       "      <td>68</td>\n",
       "    </tr>\n",
       "    <tr>\n",
       "      <td>13</td>\n",
       "      <td>Musical</td>\n",
       "      <td>39</td>\n",
       "    </tr>\n",
       "    <tr>\n",
       "      <td>20</td>\n",
       "      <td>Western</td>\n",
       "      <td>32</td>\n",
       "    </tr>\n",
       "    <tr>\n",
       "      <td>9</td>\n",
       "      <td>Film-Noir</td>\n",
       "      <td>6</td>\n",
       "    </tr>\n",
       "  </tbody>\n",
       "</table>\n",
       "</div>"
      ],
      "text/plain": [
       "        Genre  Movie\n",
       "6       Drama   1876\n",
       "4      Comedy   1444\n",
       "0      Action   1045\n",
       "1   Adventure    834\n",
       "5       Crime    689\n",
       "15    Romance    622\n",
       "18   Thriller    615\n",
       "11     Horror    410\n",
       "14    Mystery    356\n",
       "16     Sci-Fi    330\n",
       "8     Fantasy    324\n",
       "3   Biography    294\n",
       "7      Family    265\n",
       "2   Animation    205\n",
       "10    History    123\n",
       "12      Music    109\n",
       "17      Sport    100\n",
       "19        War     68\n",
       "13    Musical     39\n",
       "20    Western     32\n",
       "9   Film-Noir      6"
      ]
     },
     "execution_count": 163,
     "metadata": {},
     "output_type": "execute_result"
    }
   ],
   "source": [
    "m_by_genre"
   ]
  },
  {
   "cell_type": "code",
   "execution_count": 164,
   "metadata": {},
   "outputs": [
    {
     "data": {
      "text/plain": [
       "[Text(0.5, 1.0, 'Movie Count by Genre')]"
      ]
     },
     "execution_count": 164,
     "metadata": {},
     "output_type": "execute_result"
    },
    {
     "data": {
      "image/png": "[encoded data removed]",
      "text/plain": [
       "<Figure size 1440x576 with 1 Axes>"
      ]
     },
     "metadata": {
      "needs_background": "light"
     },
     "output_type": "display_data"
    }
   ],
   "source": [
    "#Plot the above findings.\n",
    "plt.figure(figsize=(20,8))\n",
    "ax1 = sns.barplot(x=m_by_genre['Genre'], y=m_by_genre['Movie'])\n",
    "ax1.set(title='Movie Count by Genre')"
   ]
  },
  {
   "cell_type": "markdown",
   "metadata": {},
   "source": [
    "We can see that drama, comedy, and action dominate the quantity of movie genres but does this necessarily mean these are the most profitable genres? In order to determine this we will once again group each genre but this time we are going to take a look at the average net profit for each."
   ]
  },
  {
   "cell_type": "code",
   "execution_count": 201,
   "metadata": {},
   "outputs": [],
   "source": [
    "#Once again group the movies by genre, showing the average net profit and profit margin for each.\n",
    "p_by_genre = genre_budgets_df.groupby('Genre', as_index=False)['Net Profit', 'Profit Margin'].median().sort_values(by='Net Profit', ascending=False)\n"
   ]
  },
  {
   "cell_type": "code",
   "execution_count": 202,
   "metadata": {},
   "outputs": [
    {
     "data": {
      "text/html": [
       "<div>\n",
       "<style scoped>\n",
       "    .dataframe tbody tr th:only-of-type {\n",
       "        vertical-align: middle;\n",
       "    }\n",
       "\n",
       "    .dataframe tbody tr th {\n",
       "        vertical-align: top;\n",
       "    }\n",
       "\n",
       "    .dataframe thead th {\n",
       "        text-align: right;\n",
       "    }\n",
       "</style>\n",
       "<table border=\"1\" class=\"dataframe\">\n",
       "  <thead>\n",
       "    <tr style=\"text-align: right;\">\n",
       "      <th></th>\n",
       "      <th>Genre</th>\n",
       "      <th>Net Profit</th>\n",
       "      <th>Profit Margin</th>\n",
       "    </tr>\n",
       "  </thead>\n",
       "  <tbody>\n",
       "    <tr>\n",
       "      <td>2</td>\n",
       "      <td>Animation</td>\n",
       "      <td>2.036066e+08</td>\n",
       "      <td>0.681316</td>\n",
       "    </tr>\n",
       "    <tr>\n",
       "      <td>1</td>\n",
       "      <td>Adventure</td>\n",
       "      <td>1.237950e+08</td>\n",
       "      <td>0.610306</td>\n",
       "    </tr>\n",
       "    <tr>\n",
       "      <td>16</td>\n",
       "      <td>Sci-Fi</td>\n",
       "      <td>7.619912e+07</td>\n",
       "      <td>0.596241</td>\n",
       "    </tr>\n",
       "    <tr>\n",
       "      <td>7</td>\n",
       "      <td>Family</td>\n",
       "      <td>7.462154e+07</td>\n",
       "      <td>0.582691</td>\n",
       "    </tr>\n",
       "    <tr>\n",
       "      <td>0</td>\n",
       "      <td>Action</td>\n",
       "      <td>6.433253e+07</td>\n",
       "      <td>0.519977</td>\n",
       "    </tr>\n",
       "    <tr>\n",
       "      <td>8</td>\n",
       "      <td>Fantasy</td>\n",
       "      <td>5.405758e+07</td>\n",
       "      <td>0.542261</td>\n",
       "    </tr>\n",
       "    <tr>\n",
       "      <td>18</td>\n",
       "      <td>Thriller</td>\n",
       "      <td>4.733895e+07</td>\n",
       "      <td>0.595092</td>\n",
       "    </tr>\n",
       "    <tr>\n",
       "      <td>13</td>\n",
       "      <td>Musical</td>\n",
       "      <td>4.663190e+07</td>\n",
       "      <td>0.652690</td>\n",
       "    </tr>\n",
       "    <tr>\n",
       "      <td>14</td>\n",
       "      <td>Mystery</td>\n",
       "      <td>3.963432e+07</td>\n",
       "      <td>0.614036</td>\n",
       "    </tr>\n",
       "    <tr>\n",
       "      <td>11</td>\n",
       "      <td>Horror</td>\n",
       "      <td>3.896335e+07</td>\n",
       "      <td>0.670497</td>\n",
       "    </tr>\n",
       "    <tr>\n",
       "      <td>4</td>\n",
       "      <td>Comedy</td>\n",
       "      <td>3.391745e+07</td>\n",
       "      <td>0.553442</td>\n",
       "    </tr>\n",
       "    <tr>\n",
       "      <td>15</td>\n",
       "      <td>Romance</td>\n",
       "      <td>2.673955e+07</td>\n",
       "      <td>0.569699</td>\n",
       "    </tr>\n",
       "    <tr>\n",
       "      <td>10</td>\n",
       "      <td>History</td>\n",
       "      <td>2.343555e+07</td>\n",
       "      <td>0.399724</td>\n",
       "    </tr>\n",
       "    <tr>\n",
       "      <td>6</td>\n",
       "      <td>Drama</td>\n",
       "      <td>2.325841e+07</td>\n",
       "      <td>0.502073</td>\n",
       "    </tr>\n",
       "    <tr>\n",
       "      <td>12</td>\n",
       "      <td>Music</td>\n",
       "      <td>2.277496e+07</td>\n",
       "      <td>0.547086</td>\n",
       "    </tr>\n",
       "    <tr>\n",
       "      <td>5</td>\n",
       "      <td>Crime</td>\n",
       "      <td>2.275233e+07</td>\n",
       "      <td>0.399805</td>\n",
       "    </tr>\n",
       "    <tr>\n",
       "      <td>3</td>\n",
       "      <td>Biography</td>\n",
       "      <td>2.175063e+07</td>\n",
       "      <td>0.425562</td>\n",
       "    </tr>\n",
       "    <tr>\n",
       "      <td>9</td>\n",
       "      <td>Film-Noir</td>\n",
       "      <td>1.876678e+07</td>\n",
       "      <td>0.807388</td>\n",
       "    </tr>\n",
       "    <tr>\n",
       "      <td>19</td>\n",
       "      <td>War</td>\n",
       "      <td>1.865351e+07</td>\n",
       "      <td>0.366647</td>\n",
       "    </tr>\n",
       "    <tr>\n",
       "      <td>17</td>\n",
       "      <td>Sport</td>\n",
       "      <td>1.795055e+07</td>\n",
       "      <td>0.352899</td>\n",
       "    </tr>\n",
       "    <tr>\n",
       "      <td>20</td>\n",
       "      <td>Western</td>\n",
       "      <td>1.203714e+07</td>\n",
       "      <td>0.394149</td>\n",
       "    </tr>\n",
       "  </tbody>\n",
       "</table>\n",
       "</div>"
      ],
      "text/plain": [
       "        Genre    Net Profit  Profit Margin\n",
       "2   Animation  2.036066e+08       0.681316\n",
       "1   Adventure  1.237950e+08       0.610306\n",
       "16     Sci-Fi  7.619912e+07       0.596241\n",
       "7      Family  7.462154e+07       0.582691\n",
       "0      Action  6.433253e+07       0.519977\n",
       "8     Fantasy  5.405758e+07       0.542261\n",
       "18   Thriller  4.733895e+07       0.595092\n",
       "13    Musical  4.663190e+07       0.652690\n",
       "14    Mystery  3.963432e+07       0.614036\n",
       "11     Horror  3.896335e+07       0.670497\n",
       "4      Comedy  3.391745e+07       0.553442\n",
       "15    Romance  2.673955e+07       0.569699\n",
       "10    History  2.343555e+07       0.399724\n",
       "6       Drama  2.325841e+07       0.502073\n",
       "12      Music  2.277496e+07       0.547086\n",
       "5       Crime  2.275233e+07       0.399805\n",
       "3   Biography  2.175063e+07       0.425562\n",
       "9   Film-Noir  1.876678e+07       0.807388\n",
       "19        War  1.865351e+07       0.366647\n",
       "17      Sport  1.795055e+07       0.352899\n",
       "20    Western  1.203714e+07       0.394149"
      ]
     },
     "execution_count": 202,
     "metadata": {},
     "output_type": "execute_result"
    }
   ],
   "source": [
    "p_by_genre"
   ]
  },
  {
   "cell_type": "code",
   "execution_count": 206,
   "metadata": {},
   "outputs": [
    {
     "data": {
      "text/plain": [
       "[Text(0, 0.5, 'Genre'),\n",
       " Text(0.5, 0, 'Net Profit(Hundreds of Millions)'),\n",
       " Text(0.5, 1.0, 'Net Profit By Genre')]"
      ]
     },
     "execution_count": 206,
     "metadata": {},
     "output_type": "execute_result"
    },
    {
     "data": {
      "image/png": "[encoded data removed]",
      "text/plain": [
       "<Figure size 1440x576 with 1 Axes>"
      ]
     },
     "metadata": {
      "needs_background": "light"
     },
     "output_type": "display_data"
    }
   ],
   "source": [
    "#Plot the above findings.\n",
    "plt.figure(figsize=(20,8))\n",
    "ax2 = sns.barplot(x=p_by_genre['Net Profit'], y=p_by_genre['Genre'])\n",
    "ax2.set(xlabel='Net Profit(Hundreds of Millions)', ylabel='Genre', title='Net Profit By Genre')"
   ]
  },
  {
   "cell_type": "code",
   "execution_count": 230,
   "metadata": {},
   "outputs": [
    {
     "data": {
      "text/plain": [
       "(0.3, 0.85)"
      ]
     },
     "execution_count": 230,
     "metadata": {},
     "output_type": "execute_result"
    },
    {
     "data": {
      "image/png": "[encoded data removed]",
      "text/plain": [
       "<Figure size 1440x576 with 1 Axes>"
      ]
     },
     "metadata": {
      "needs_background": "light"
     },
     "output_type": "display_data"
    }
   ],
   "source": [
    "plt.figure(figsize=(20,8))\n",
    "ax12 = sns.barplot(x=p_by_genre['Profit Margin'], y=p_by_genre['Genre'])\n",
    "ax12.set(xlabel='Profit Margin', ylabel='Genre', title='Profit Margin By Genre')\n",
    "plt.xlim(0.3, 0.85)"
   ]
  },
  {
   "cell_type": "markdown",
   "metadata": {},
   "source": [
    "Interesting, although they are not the most commonly released genres; animation, adventure, and sci-fi typically have the most success in terms of median net profit. We can also see that Animation has a desirable profit margin along with horror and musicals. Note: although Film Noir leads with a .8+ profit margin this is based on 6 movies and has to be disregarded due to the small sample size. \n",
    "\n",
    "Lastly, of what percentage of the total net profit from all genres does each genre account?"
   ]
  },
  {
   "cell_type": "code",
   "execution_count": 168,
   "metadata": {},
   "outputs": [
    {
     "data": {
      "text/html": [
       "<div>\n",
       "<style scoped>\n",
       "    .dataframe tbody tr th:only-of-type {\n",
       "        vertical-align: middle;\n",
       "    }\n",
       "\n",
       "    .dataframe tbody tr th {\n",
       "        vertical-align: top;\n",
       "    }\n",
       "\n",
       "    .dataframe thead th {\n",
       "        text-align: right;\n",
       "    }\n",
       "</style>\n",
       "<table border=\"1\" class=\"dataframe\">\n",
       "  <thead>\n",
       "    <tr style=\"text-align: right;\">\n",
       "      <th></th>\n",
       "      <th>Genre</th>\n",
       "      <th>Net Profit</th>\n",
       "      <th>Percent Total of Net Profit</th>\n",
       "    </tr>\n",
       "  </thead>\n",
       "  <tbody>\n",
       "    <tr>\n",
       "      <td>1</td>\n",
       "      <td>Adventure</td>\n",
       "      <td>2.173357e+11</td>\n",
       "      <td>18.07</td>\n",
       "    </tr>\n",
       "    <tr>\n",
       "      <td>0</td>\n",
       "      <td>Action</td>\n",
       "      <td>1.789300e+11</td>\n",
       "      <td>14.88</td>\n",
       "    </tr>\n",
       "    <tr>\n",
       "      <td>4</td>\n",
       "      <td>Comedy</td>\n",
       "      <td>1.519229e+11</td>\n",
       "      <td>12.63</td>\n",
       "    </tr>\n",
       "    <tr>\n",
       "      <td>6</td>\n",
       "      <td>Drama</td>\n",
       "      <td>1.449900e+11</td>\n",
       "      <td>12.05</td>\n",
       "    </tr>\n",
       "    <tr>\n",
       "      <td>16</td>\n",
       "      <td>Sci-Fi</td>\n",
       "      <td>7.046561e+10</td>\n",
       "      <td>5.86</td>\n",
       "    </tr>\n",
       "    <tr>\n",
       "      <td>2</td>\n",
       "      <td>Animation</td>\n",
       "      <td>6.872099e+10</td>\n",
       "      <td>5.71</td>\n",
       "    </tr>\n",
       "    <tr>\n",
       "      <td>18</td>\n",
       "      <td>Thriller</td>\n",
       "      <td>6.544224e+10</td>\n",
       "      <td>5.44</td>\n",
       "    </tr>\n",
       "    <tr>\n",
       "      <td>8</td>\n",
       "      <td>Fantasy</td>\n",
       "      <td>5.479714e+10</td>\n",
       "      <td>4.56</td>\n",
       "    </tr>\n",
       "    <tr>\n",
       "      <td>15</td>\n",
       "      <td>Romance</td>\n",
       "      <td>5.051074e+10</td>\n",
       "      <td>4.20</td>\n",
       "    </tr>\n",
       "    <tr>\n",
       "      <td>7</td>\n",
       "      <td>Family</td>\n",
       "      <td>4.604064e+10</td>\n",
       "      <td>3.83</td>\n",
       "    </tr>\n",
       "    <tr>\n",
       "      <td>5</td>\n",
       "      <td>Crime</td>\n",
       "      <td>4.519441e+10</td>\n",
       "      <td>3.76</td>\n",
       "    </tr>\n",
       "    <tr>\n",
       "      <td>14</td>\n",
       "      <td>Mystery</td>\n",
       "      <td>2.990324e+10</td>\n",
       "      <td>2.49</td>\n",
       "    </tr>\n",
       "    <tr>\n",
       "      <td>11</td>\n",
       "      <td>Horror</td>\n",
       "      <td>2.880038e+10</td>\n",
       "      <td>2.39</td>\n",
       "    </tr>\n",
       "    <tr>\n",
       "      <td>3</td>\n",
       "      <td>Biography</td>\n",
       "      <td>1.677666e+10</td>\n",
       "      <td>1.39</td>\n",
       "    </tr>\n",
       "    <tr>\n",
       "      <td>10</td>\n",
       "      <td>History</td>\n",
       "      <td>8.429563e+09</td>\n",
       "      <td>0.70</td>\n",
       "    </tr>\n",
       "    <tr>\n",
       "      <td>12</td>\n",
       "      <td>Music</td>\n",
       "      <td>7.439929e+09</td>\n",
       "      <td>0.62</td>\n",
       "    </tr>\n",
       "    <tr>\n",
       "      <td>13</td>\n",
       "      <td>Musical</td>\n",
       "      <td>5.228066e+09</td>\n",
       "      <td>0.43</td>\n",
       "    </tr>\n",
       "    <tr>\n",
       "      <td>17</td>\n",
       "      <td>Sport</td>\n",
       "      <td>4.620549e+09</td>\n",
       "      <td>0.38</td>\n",
       "    </tr>\n",
       "    <tr>\n",
       "      <td>19</td>\n",
       "      <td>War</td>\n",
       "      <td>4.619522e+09</td>\n",
       "      <td>0.38</td>\n",
       "    </tr>\n",
       "    <tr>\n",
       "      <td>20</td>\n",
       "      <td>Western</td>\n",
       "      <td>2.551517e+09</td>\n",
       "      <td>0.21</td>\n",
       "    </tr>\n",
       "    <tr>\n",
       "      <td>9</td>\n",
       "      <td>Film-Noir</td>\n",
       "      <td>1.533135e+08</td>\n",
       "      <td>0.01</td>\n",
       "    </tr>\n",
       "  </tbody>\n",
       "</table>\n",
       "</div>"
      ],
      "text/plain": [
       "        Genre    Net Profit  Percent Total of Net Profit\n",
       "1   Adventure  2.173357e+11                        18.07\n",
       "0      Action  1.789300e+11                        14.88\n",
       "4      Comedy  1.519229e+11                        12.63\n",
       "6       Drama  1.449900e+11                        12.05\n",
       "16     Sci-Fi  7.046561e+10                         5.86\n",
       "2   Animation  6.872099e+10                         5.71\n",
       "18   Thriller  6.544224e+10                         5.44\n",
       "8     Fantasy  5.479714e+10                         4.56\n",
       "15    Romance  5.051074e+10                         4.20\n",
       "7      Family  4.604064e+10                         3.83\n",
       "5       Crime  4.519441e+10                         3.76\n",
       "14    Mystery  2.990324e+10                         2.49\n",
       "11     Horror  2.880038e+10                         2.39\n",
       "3   Biography  1.677666e+10                         1.39\n",
       "10    History  8.429563e+09                         0.70\n",
       "12      Music  7.439929e+09                         0.62\n",
       "13    Musical  5.228066e+09                         0.43\n",
       "17      Sport  4.620549e+09                         0.38\n",
       "19        War  4.619522e+09                         0.38\n",
       "20    Western  2.551517e+09                         0.21\n",
       "9   Film-Noir  1.533135e+08                         0.01"
      ]
     },
     "execution_count": 168,
     "metadata": {},
     "output_type": "execute_result"
    }
   ],
   "source": [
    "#Grouped by genre, find the percent total of the net profit for each.\n",
    "per_by_genre = genre_budgets_df.groupby(['Genre'],  as_index=False)['Net Profit'].sum().sort_values(by='Net Profit', ascending=False)\n",
    "per_by_genre['Percent Total of Net Profit'] = (per_by_genre['Net Profit']/per_by_genre['Net Profit'].sum()*100).round(2)\n",
    "per_by_genre"
   ]
  },
  {
   "cell_type": "code",
   "execution_count": 169,
   "metadata": {},
   "outputs": [
    {
     "data": {
      "text/plain": [
       "[Text(0.5, 1.0, 'Percent of Net Profit By Genre')]"
      ]
     },
     "execution_count": 169,
     "metadata": {},
     "output_type": "execute_result"
    },
    {
     "data": {
      "image/png": "[encoded data removed]",
      "text/plain": [
       "<Figure size 1440x576 with 1 Axes>"
      ]
     },
     "metadata": {
      "needs_background": "light"
     },
     "output_type": "display_data"
    }
   ],
   "source": [
    "#Plot the above findings.\n",
    "plt.figure(figsize=(20,8))\n",
    "ax3 = sns.barplot(x=per_by_genre['Genre'], y=per_by_genre['Percent Total of Net Profit'])\n",
    "ax3.set(title='Percent of Net Profit By Genre')"
   ]
  },
  {
   "cell_type": "markdown",
   "metadata": {},
   "source": [
    "Now we can see that adventure, action, comedy and drama make up the lionshare of the overall net profits from all movies. However, from our recent observations we know there are also major opportunities in the animation and sci-fi markets due to lower saturation but high average net profits. We will soon determine which genres are most successful during which months."
   ]
  },
  {
   "cell_type": "markdown",
   "metadata": {},
   "source": [
    "# Question 3: What is the best time of the year to release a movie?"
   ]
  },
  {
   "cell_type": "code",
   "execution_count": 170,
   "metadata": {},
   "outputs": [],
   "source": [
    "#Convert the Release Date field to type datetime.\n",
    "imdb_budgets_df['Release Date'] = pd.to_datetime(imdb_budgets_df['Release Date'])"
   ]
  },
  {
   "cell_type": "code",
   "execution_count": 171,
   "metadata": {},
   "outputs": [],
   "source": [
    "#Add a new column called month, displaying only the month from the release date.\n",
    "dateData =  [x.strftime('%B') for x in imdb_budgets_df['Release Date']]\n",
    "imdb_budgets_df['Month'] = dateData"
   ]
  },
  {
   "cell_type": "markdown",
   "metadata": {},
   "source": [
    "Let's first start by determing which months see the most movie releases."
   ]
  },
  {
   "cell_type": "code",
   "execution_count": 172,
   "metadata": {},
   "outputs": [
    {
     "data": {
      "text/html": [
       "<div>\n",
       "<style scoped>\n",
       "    .dataframe tbody tr th:only-of-type {\n",
       "        vertical-align: middle;\n",
       "    }\n",
       "\n",
       "    .dataframe tbody tr th {\n",
       "        vertical-align: top;\n",
       "    }\n",
       "\n",
       "    .dataframe thead th {\n",
       "        text-align: right;\n",
       "    }\n",
       "</style>\n",
       "<table border=\"1\" class=\"dataframe\">\n",
       "  <thead>\n",
       "    <tr style=\"text-align: right;\">\n",
       "      <th></th>\n",
       "      <th>Month</th>\n",
       "      <th>Movie</th>\n",
       "    </tr>\n",
       "  </thead>\n",
       "  <tbody>\n",
       "    <tr>\n",
       "      <td>2</td>\n",
       "      <td>December</td>\n",
       "      <td>452</td>\n",
       "    </tr>\n",
       "    <tr>\n",
       "      <td>10</td>\n",
       "      <td>October</td>\n",
       "      <td>424</td>\n",
       "    </tr>\n",
       "    <tr>\n",
       "      <td>9</td>\n",
       "      <td>November</td>\n",
       "      <td>366</td>\n",
       "    </tr>\n",
       "    <tr>\n",
       "      <td>11</td>\n",
       "      <td>September</td>\n",
       "      <td>358</td>\n",
       "    </tr>\n",
       "    <tr>\n",
       "      <td>1</td>\n",
       "      <td>August</td>\n",
       "      <td>346</td>\n",
       "    </tr>\n",
       "    <tr>\n",
       "      <td>6</td>\n",
       "      <td>June</td>\n",
       "      <td>327</td>\n",
       "    </tr>\n",
       "    <tr>\n",
       "      <td>5</td>\n",
       "      <td>July</td>\n",
       "      <td>296</td>\n",
       "    </tr>\n",
       "    <tr>\n",
       "      <td>7</td>\n",
       "      <td>March</td>\n",
       "      <td>270</td>\n",
       "    </tr>\n",
       "    <tr>\n",
       "      <td>8</td>\n",
       "      <td>May</td>\n",
       "      <td>241</td>\n",
       "    </tr>\n",
       "    <tr>\n",
       "      <td>0</td>\n",
       "      <td>April</td>\n",
       "      <td>238</td>\n",
       "    </tr>\n",
       "    <tr>\n",
       "      <td>3</td>\n",
       "      <td>February</td>\n",
       "      <td>236</td>\n",
       "    </tr>\n",
       "    <tr>\n",
       "      <td>4</td>\n",
       "      <td>January</td>\n",
       "      <td>186</td>\n",
       "    </tr>\n",
       "  </tbody>\n",
       "</table>\n",
       "</div>"
      ],
      "text/plain": [
       "        Month  Movie\n",
       "2    December    452\n",
       "10    October    424\n",
       "9    November    366\n",
       "11  September    358\n",
       "1      August    346\n",
       "6        June    327\n",
       "5        July    296\n",
       "7       March    270\n",
       "8         May    241\n",
       "0       April    238\n",
       "3    February    236\n",
       "4     January    186"
      ]
     },
     "execution_count": 172,
     "metadata": {},
     "output_type": "execute_result"
    }
   ],
   "source": [
    "#Count the total number of movies and group by month.\n",
    "m_by_month = imdb_budgets_df.groupby(['Month'], as_index=False)['Movie'].count().sort_values(by='Movie', ascending=False)\n",
    "m_by_month"
   ]
  },
  {
   "cell_type": "code",
   "execution_count": 173,
   "metadata": {},
   "outputs": [
    {
     "data": {
      "text/plain": [
       "[Text(0, 0.5, 'Count'), Text(0.5, 1.0, 'Count of Movie Release By Month')]"
      ]
     },
     "execution_count": 173,
     "metadata": {},
     "output_type": "execute_result"
    },
    {
     "data": {
      "image/png": "[encoded data removed]",
      "text/plain": [
       "<Figure size 1008x504 with 1 Axes>"
      ]
     },
     "metadata": {
      "needs_background": "light"
     },
     "output_type": "display_data"
    }
   ],
   "source": [
    "#Plot the above findings in order by month.\n",
    "plt.figure(figsize=(14,7))\n",
    "ax4 = sns.countplot(x=imdb_budgets_df['Month'],\n",
    "                   order=['January', 'February', 'March', 'April', 'May', 'June', 'July', 'August', 'September', 'October', 'November', 'December'])\n",
    "ax4.set(ylabel='Count', title='Count of Movie Release By Month')"
   ]
  },
  {
   "cell_type": "markdown",
   "metadata": {},
   "source": [
    "As you can see Decemeber and October lead the way in terms of sheer quantity of movies but does this suggest a higher level of profitability? Next we will look into the average net income by movie for each month."
   ]
  },
  {
   "cell_type": "code",
   "execution_count": 197,
   "metadata": {},
   "outputs": [
    {
     "data": {
      "text/html": [
       "<div>\n",
       "<style scoped>\n",
       "    .dataframe tbody tr th:only-of-type {\n",
       "        vertical-align: middle;\n",
       "    }\n",
       "\n",
       "    .dataframe tbody tr th {\n",
       "        vertical-align: top;\n",
       "    }\n",
       "\n",
       "    .dataframe thead th {\n",
       "        text-align: right;\n",
       "    }\n",
       "</style>\n",
       "<table border=\"1\" class=\"dataframe\">\n",
       "  <thead>\n",
       "    <tr style=\"text-align: right;\">\n",
       "      <th></th>\n",
       "      <th>Month</th>\n",
       "      <th>Net Profit</th>\n",
       "      <th>Profit Margin</th>\n",
       "    </tr>\n",
       "  </thead>\n",
       "  <tbody>\n",
       "    <tr>\n",
       "      <td>6</td>\n",
       "      <td>June</td>\n",
       "      <td>8.032764e+07</td>\n",
       "      <td>0.642956</td>\n",
       "    </tr>\n",
       "    <tr>\n",
       "      <td>8</td>\n",
       "      <td>May</td>\n",
       "      <td>7.937216e+07</td>\n",
       "      <td>0.638093</td>\n",
       "    </tr>\n",
       "    <tr>\n",
       "      <td>5</td>\n",
       "      <td>July</td>\n",
       "      <td>7.471662e+07</td>\n",
       "      <td>0.644061</td>\n",
       "    </tr>\n",
       "    <tr>\n",
       "      <td>2</td>\n",
       "      <td>December</td>\n",
       "      <td>5.682309e+07</td>\n",
       "      <td>0.587273</td>\n",
       "    </tr>\n",
       "    <tr>\n",
       "      <td>9</td>\n",
       "      <td>November</td>\n",
       "      <td>4.747665e+07</td>\n",
       "      <td>0.571790</td>\n",
       "    </tr>\n",
       "    <tr>\n",
       "      <td>3</td>\n",
       "      <td>February</td>\n",
       "      <td>4.108945e+07</td>\n",
       "      <td>0.563982</td>\n",
       "    </tr>\n",
       "    <tr>\n",
       "      <td>7</td>\n",
       "      <td>March</td>\n",
       "      <td>3.364581e+07</td>\n",
       "      <td>0.514524</td>\n",
       "    </tr>\n",
       "    <tr>\n",
       "      <td>0</td>\n",
       "      <td>April</td>\n",
       "      <td>3.143564e+07</td>\n",
       "      <td>0.541053</td>\n",
       "    </tr>\n",
       "    <tr>\n",
       "      <td>4</td>\n",
       "      <td>January</td>\n",
       "      <td>3.113234e+07</td>\n",
       "      <td>0.555721</td>\n",
       "    </tr>\n",
       "    <tr>\n",
       "      <td>1</td>\n",
       "      <td>August</td>\n",
       "      <td>2.538331e+07</td>\n",
       "      <td>0.522294</td>\n",
       "    </tr>\n",
       "    <tr>\n",
       "      <td>11</td>\n",
       "      <td>September</td>\n",
       "      <td>1.643095e+07</td>\n",
       "      <td>0.405712</td>\n",
       "    </tr>\n",
       "    <tr>\n",
       "      <td>10</td>\n",
       "      <td>October</td>\n",
       "      <td>1.557953e+07</td>\n",
       "      <td>0.461742</td>\n",
       "    </tr>\n",
       "  </tbody>\n",
       "</table>\n",
       "</div>"
      ],
      "text/plain": [
       "        Month    Net Profit  Profit Margin\n",
       "6        June  8.032764e+07       0.642956\n",
       "8         May  7.937216e+07       0.638093\n",
       "5        July  7.471662e+07       0.644061\n",
       "2    December  5.682309e+07       0.587273\n",
       "9    November  4.747665e+07       0.571790\n",
       "3    February  4.108945e+07       0.563982\n",
       "7       March  3.364581e+07       0.514524\n",
       "0       April  3.143564e+07       0.541053\n",
       "4     January  3.113234e+07       0.555721\n",
       "1      August  2.538331e+07       0.522294\n",
       "11  September  1.643095e+07       0.405712\n",
       "10    October  1.557953e+07       0.461742"
      ]
     },
     "execution_count": 197,
     "metadata": {},
     "output_type": "execute_result"
    }
   ],
   "source": [
    "#Once again group the movies by month, showing the average net profit for each.\n",
    "p_by_month = imdb_budgets_df.groupby('Month', as_index=False)['Net Profit', 'Profit Margin'].median().sort_values(by='Net Profit', ascending=False)\n",
    "p_by_month"
   ]
  },
  {
   "cell_type": "code",
   "execution_count": 200,
   "metadata": {},
   "outputs": [
    {
     "data": {
      "text/plain": [
       "[Text(0, 0.5, 'Net Profit(Tens of Millions)'),\n",
       " Text(0.5, 1.0, 'Median Movie Net Profit By Release Month')]"
      ]
     },
     "execution_count": 200,
     "metadata": {},
     "output_type": "execute_result"
    },
    {
     "data": {
      "image/png": "[encoded data removed]",
      "text/plain": [
       "<Figure size 1008x504 with 1 Axes>"
      ]
     },
     "metadata": {
      "needs_background": "light"
     },
     "output_type": "display_data"
    }
   ],
   "source": [
    "#Plot your above findings in order by month.\n",
    "plt.figure(figsize=(14,7))\n",
    "ax5 = sns.barplot(x=p_by_month['Month'], y=p_by_month['Net Profit'], \n",
    "                  order=['January', 'February', 'March', 'April', 'May', 'June', 'July', 'August', 'September', 'October', 'November', 'December'])\n",
    "ax5.set(ylabel='Net Profit(Tens of Millions)', title='Median Movie Net Profit By Release Month')\n"
   ]
  },
  {
   "cell_type": "code",
   "execution_count": 229,
   "metadata": {},
   "outputs": [
    {
     "data": {
      "text/plain": [
       "(0.3, 0.7)"
      ]
     },
     "execution_count": 229,
     "metadata": {},
     "output_type": "execute_result"
    },
    {
     "data": {
      "image/png": "[encoded data removed]",
      "text/plain": [
       "<Figure size 1008x504 with 1 Axes>"
      ]
     },
     "metadata": {
      "needs_background": "light"
     },
     "output_type": "display_data"
    }
   ],
   "source": [
    "plt.figure(figsize=(14,7))\n",
    "ax15 = sns.barplot(x=p_by_month['Month'], y=p_by_month['Profit Margin'], \n",
    "                  order=['January', 'February', 'March', 'April', 'May', 'June', 'July', 'August', 'September', 'October', 'November', 'December'])\n",
    "ax15.set(ylabel='Profit Margin', title='Profit Margin By Release Month')\n",
    "plt.ylim(0.3, 0.7)"
   ]
  },
  {
   "cell_type": "markdown",
   "metadata": {},
   "source": [
    "Interestingly, May, June and July shoot to the top in terms of both median net profit and profit margin. It appears that the summer months tend to result in greater success, perhaps as a result of an influx of children and their parents during summer break. Now as previously mentioned, let's dig a little further and see which genre tends to do the best in which month."
   ]
  },
  {
   "cell_type": "code",
   "execution_count": 176,
   "metadata": {},
   "outputs": [],
   "source": [
    "#Convert the Release Date field to type datetime\n",
    "#Add a new column called month, displaying only the month from the release date.\n",
    "genre_budgets_df['Release Date'] = pd.to_datetime(genre_budgets_df['Release Date'])\n",
    "genreDate =  [x.strftime('%B') for x in genre_budgets_df['Release Date']]\n",
    "genre_budgets_df['Month'] = genreDate"
   ]
  },
  {
   "cell_type": "code",
   "execution_count": 177,
   "metadata": {},
   "outputs": [],
   "source": [
    "#Create a new table called month_genre consisting of Genre, Month, Net Profit, and Release Date\n",
    "month_genre = genre_budgets_df[['Genre', 'Month', 'Net Profit', 'Release Date']]\n",
    "#Group by Genre and Month, displaying the average Net Profit for each combination.\n",
    "month_genre = month_genre.groupby(['Genre', 'Month'], as_index=False)['Net Profit'].mean().sort_values(by='Net Profit', ascending=False)"
   ]
  },
  {
   "cell_type": "code",
   "execution_count": 178,
   "metadata": {},
   "outputs": [],
   "source": [
    "#Slice the top six most profitable genres from above.\n",
    "Adventure_df = month_genre.loc[month_genre['Genre'].str.contains('Adventure')]\n",
    "Action_df = month_genre.loc[month_genre['Genre'].str.contains('Action')]\n",
    "Comedy_df = month_genre.loc[month_genre['Genre'].str.contains('Comedy')]\n",
    "Drama_df = month_genre.loc[month_genre['Genre'].str.contains('Drama')]\n",
    "Scifi_df = month_genre.loc[month_genre['Genre'].str.contains('Sci-Fi')]\n",
    "Animation_df = month_genre.loc[month_genre['Genre'].str.contains('Animation')]"
   ]
  },
  {
   "cell_type": "code",
   "execution_count": 179,
   "metadata": {},
   "outputs": [],
   "source": [
    "#Concatenate the six new tables into one new table.\n",
    "genre_concat = [Adventure_df, Action_df, Comedy_df, Drama_df, Scifi_df, Animation_df]\n",
    "month_genre_df = pd.concat(genre_concat)"
   ]
  },
  {
   "cell_type": "code",
   "execution_count": 180,
   "metadata": {},
   "outputs": [],
   "source": [
    "#Create a table of the months in order.\n",
    "months_in_order = ['January', 'February', 'March', 'April', 'May', 'June', 'July', 'August', 'September', 'October', 'November', 'December']\n",
    "#Create a pivot table of month_genre_df, use the month_in_order table to reindex the pivot table.\n",
    "month_genre_pivoted = month_genre_df.pivot(index='Month', columns='Genre', values='Net Profit').reindex(months_in_order)"
   ]
  },
  {
   "cell_type": "code",
   "execution_count": 181,
   "metadata": {},
   "outputs": [
    {
     "data": {
      "text/html": [
       "<div>\n",
       "<style scoped>\n",
       "    .dataframe tbody tr th:only-of-type {\n",
       "        vertical-align: middle;\n",
       "    }\n",
       "\n",
       "    .dataframe tbody tr th {\n",
       "        vertical-align: top;\n",
       "    }\n",
       "\n",
       "    .dataframe thead th {\n",
       "        text-align: right;\n",
       "    }\n",
       "</style>\n",
       "<table border=\"1\" class=\"dataframe\">\n",
       "  <thead>\n",
       "    <tr style=\"text-align: right;\">\n",
       "      <th>Genre</th>\n",
       "      <th>Action</th>\n",
       "      <th>Adventure</th>\n",
       "      <th>Animation</th>\n",
       "      <th>Comedy</th>\n",
       "      <th>Drama</th>\n",
       "      <th>Sci-Fi</th>\n",
       "    </tr>\n",
       "    <tr>\n",
       "      <th>Month</th>\n",
       "      <th></th>\n",
       "      <th></th>\n",
       "      <th></th>\n",
       "      <th></th>\n",
       "      <th></th>\n",
       "      <th></th>\n",
       "    </tr>\n",
       "  </thead>\n",
       "  <tbody>\n",
       "    <tr>\n",
       "      <td>January</td>\n",
       "      <td>6.791123e+07</td>\n",
       "      <td>1.014803e+08</td>\n",
       "      <td>2.543046e+08</td>\n",
       "      <td>7.032172e+07</td>\n",
       "      <td>4.353902e+07</td>\n",
       "      <td>8.613114e+07</td>\n",
       "    </tr>\n",
       "    <tr>\n",
       "      <td>February</td>\n",
       "      <td>1.077412e+08</td>\n",
       "      <td>1.491730e+08</td>\n",
       "      <td>2.736999e+08</td>\n",
       "      <td>7.812990e+07</td>\n",
       "      <td>6.380754e+07</td>\n",
       "      <td>1.234631e+08</td>\n",
       "    </tr>\n",
       "    <tr>\n",
       "      <td>March</td>\n",
       "      <td>1.275490e+08</td>\n",
       "      <td>2.004747e+08</td>\n",
       "      <td>2.402952e+08</td>\n",
       "      <td>8.141113e+07</td>\n",
       "      <td>5.234813e+07</td>\n",
       "      <td>1.713357e+08</td>\n",
       "    </tr>\n",
       "    <tr>\n",
       "      <td>April</td>\n",
       "      <td>2.593924e+08</td>\n",
       "      <td>3.714263e+08</td>\n",
       "      <td>1.355146e+08</td>\n",
       "      <td>5.005051e+07</td>\n",
       "      <td>7.719929e+07</td>\n",
       "      <td>4.009927e+08</td>\n",
       "    </tr>\n",
       "    <tr>\n",
       "      <td>May</td>\n",
       "      <td>3.004318e+08</td>\n",
       "      <td>3.769460e+08</td>\n",
       "      <td>5.874762e+08</td>\n",
       "      <td>1.878399e+08</td>\n",
       "      <td>9.659074e+07</td>\n",
       "      <td>3.818387e+08</td>\n",
       "    </tr>\n",
       "    <tr>\n",
       "      <td>June</td>\n",
       "      <td>2.651015e+08</td>\n",
       "      <td>3.929636e+08</td>\n",
       "      <td>5.877637e+08</td>\n",
       "      <td>1.754166e+08</td>\n",
       "      <td>1.123821e+08</td>\n",
       "      <td>3.668735e+08</td>\n",
       "    </tr>\n",
       "    <tr>\n",
       "      <td>July</td>\n",
       "      <td>2.572935e+08</td>\n",
       "      <td>2.808123e+08</td>\n",
       "      <td>3.251843e+08</td>\n",
       "      <td>1.409271e+08</td>\n",
       "      <td>1.191990e+08</td>\n",
       "      <td>2.625137e+08</td>\n",
       "    </tr>\n",
       "    <tr>\n",
       "      <td>August</td>\n",
       "      <td>7.899352e+07</td>\n",
       "      <td>8.112804e+07</td>\n",
       "      <td>1.081159e+08</td>\n",
       "      <td>5.270262e+07</td>\n",
       "      <td>6.563711e+07</td>\n",
       "      <td>8.081201e+07</td>\n",
       "    </tr>\n",
       "    <tr>\n",
       "      <td>September</td>\n",
       "      <td>5.298018e+07</td>\n",
       "      <td>9.338847e+07</td>\n",
       "      <td>1.538475e+08</td>\n",
       "      <td>5.328869e+07</td>\n",
       "      <td>4.019450e+07</td>\n",
       "      <td>1.108048e+08</td>\n",
       "    </tr>\n",
       "    <tr>\n",
       "      <td>October</td>\n",
       "      <td>1.242578e+08</td>\n",
       "      <td>1.698962e+08</td>\n",
       "      <td>2.495826e+08</td>\n",
       "      <td>4.617750e+07</td>\n",
       "      <td>4.299265e+07</td>\n",
       "      <td>1.001205e+08</td>\n",
       "    </tr>\n",
       "    <tr>\n",
       "      <td>November</td>\n",
       "      <td>1.397494e+08</td>\n",
       "      <td>3.035039e+08</td>\n",
       "      <td>3.543819e+08</td>\n",
       "      <td>1.653404e+08</td>\n",
       "      <td>8.726560e+07</td>\n",
       "      <td>2.103363e+08</td>\n",
       "    </tr>\n",
       "    <tr>\n",
       "      <td>December</td>\n",
       "      <td>2.351132e+08</td>\n",
       "      <td>2.957330e+08</td>\n",
       "      <td>2.025533e+08</td>\n",
       "      <td>1.286992e+08</td>\n",
       "      <td>1.177589e+08</td>\n",
       "      <td>1.136957e+08</td>\n",
       "    </tr>\n",
       "  </tbody>\n",
       "</table>\n",
       "</div>"
      ],
      "text/plain": [
       "Genre            Action     Adventure     Animation        Comedy  \\\n",
       "Month                                                               \n",
       "January    6.791123e+07  1.014803e+08  2.543046e+08  7.032172e+07   \n",
       "February   1.077412e+08  1.491730e+08  2.736999e+08  7.812990e+07   \n",
       "March      1.275490e+08  2.004747e+08  2.402952e+08  8.141113e+07   \n",
       "April      2.593924e+08  3.714263e+08  1.355146e+08  5.005051e+07   \n",
       "May        3.004318e+08  3.769460e+08  5.874762e+08  1.878399e+08   \n",
       "June       2.651015e+08  3.929636e+08  5.877637e+08  1.754166e+08   \n",
       "July       2.572935e+08  2.808123e+08  3.251843e+08  1.409271e+08   \n",
       "August     7.899352e+07  8.112804e+07  1.081159e+08  5.270262e+07   \n",
       "September  5.298018e+07  9.338847e+07  1.538475e+08  5.328869e+07   \n",
       "October    1.242578e+08  1.698962e+08  2.495826e+08  4.617750e+07   \n",
       "November   1.397494e+08  3.035039e+08  3.543819e+08  1.653404e+08   \n",
       "December   2.351132e+08  2.957330e+08  2.025533e+08  1.286992e+08   \n",
       "\n",
       "Genre             Drama        Sci-Fi  \n",
       "Month                                  \n",
       "January    4.353902e+07  8.613114e+07  \n",
       "February   6.380754e+07  1.234631e+08  \n",
       "March      5.234813e+07  1.713357e+08  \n",
       "April      7.719929e+07  4.009927e+08  \n",
       "May        9.659074e+07  3.818387e+08  \n",
       "June       1.123821e+08  3.668735e+08  \n",
       "July       1.191990e+08  2.625137e+08  \n",
       "August     6.563711e+07  8.081201e+07  \n",
       "September  4.019450e+07  1.108048e+08  \n",
       "October    4.299265e+07  1.001205e+08  \n",
       "November   8.726560e+07  2.103363e+08  \n",
       "December   1.177589e+08  1.136957e+08  "
      ]
     },
     "execution_count": 181,
     "metadata": {},
     "output_type": "execute_result"
    }
   ],
   "source": [
    "month_genre_pivoted"
   ]
  },
  {
   "cell_type": "code",
   "execution_count": 182,
   "metadata": {},
   "outputs": [
    {
     "data": {
      "text/plain": [
       "(array([ 0.,  2.,  4.,  6.,  8., 10., 12.]),\n",
       " <a list of 7 Text xticklabel objects>)"
      ]
     },
     "execution_count": 182,
     "metadata": {},
     "output_type": "execute_result"
    },
    {
     "data": {
      "image/png": "[encoded data removed]",
      "text/plain": [
       "<Figure size 1584x720 with 1 Axes>"
      ]
     },
     "metadata": {
      "needs_background": "light"
     },
     "output_type": "display_data"
    }
   ],
   "source": [
    "#Visualize the top 6 most profitable genre's by month\n",
    "month_genre_pivoted.plot(kind='line', figsize=(22, 10), rot=0)\n",
    "plt.legend(prop={'size': 16})\n",
    "plt.xlabel('Month', fontsize=16)\n",
    "plt.ylabel('Net Profit(In Hundreds of Millions)', fontsize=16)\n",
    "plt.title('Net Profit by Month by Genre', fontsize=20)\n",
    "plt.xticks(fontsize=15, rotation=45)"
   ]
  },
  {
   "cell_type": "markdown",
   "metadata": {},
   "source": [
    "We can see that each genre follows the same basic pattern, with the summer months proving to be the most profitable time to release a movie. Some further analysis shows that releasing an animation movie in particular during the summer months will have the greatest potential for high net profits. On the other hand drama, although fluctuates slightly with the months, tends to have no impact based on release date. When considering what aspects go into creating a successful movie, it's clear that one must take take into account the impact of a well timed release date."
   ]
  },
  {
   "cell_type": "markdown",
   "metadata": {},
   "source": [
    "# Question 5: Now that we've got a better understanding of what attributes to a successful movie, which actors and directors tend to add the most value?"
   ]
  },
  {
   "cell_type": "markdown",
   "metadata": {},
   "source": [
    "In this section we are going to take a look at the average net profit across all movies. From there we want to determine which actors and directors consistently appear in movies where the net profit substantially exceeds the average. We will represent this in a field called Value Above Replacement(VAR). To further simplify this concept; if across all movies the average net profit is 100 dollars and the average net profit of movies from 'Actor: X' is 200 dollars he/she would have a VAR of 2. This number represents X times over the average. To eliminate outliers we will look at actors who appear in 10 or more movies and directors who work in 5 or more."
   ]
  },
  {
   "cell_type": "code",
   "execution_count": 183,
   "metadata": {},
   "outputs": [],
   "source": [
    "#Similar to the imdb_budget_df table let's start by adjusting for inflation.\n",
    "actors_df['Production Budget'] = (((2020-actors_df['Year'])*.0322)+1)*actors_df['Production Budget']\n",
    "actors_df['Worldwide Gross'] = (((2020-actors_df['Year'])*.0322)+1)*actors_df['Worldwide Gross']\n",
    "actors_df['Domestic Gross'] = (((2020-actors_df['Year'])*.0322)+1)*actors_df['Domestic Gross']"
   ]
  },
  {
   "cell_type": "code",
   "execution_count": 184,
   "metadata": {},
   "outputs": [],
   "source": [
    "#Calculate Net Profit and Profit Margin\n",
    "actors_df['Net Profit'] = actors_df['Worldwide Gross'] - actors_df['Production Budget']\n",
    "actors_df['Profit Margin'] = actors_df['Net Profit'] / actors_df['Worldwide Gross']"
   ]
  },
  {
   "cell_type": "code",
   "execution_count": 185,
   "metadata": {},
   "outputs": [],
   "source": [
    "#Let's filter the actors_df table to only include actors that appeared in 10 or more movies\n",
    "actor_counts = actors_df['value'].value_counts()\n",
    "actor_list = actor_counts[actor_counts >= 10].index.tolist()\n",
    "actors_df = actors_df[actors_df['value'].isin(actor_list)]"
   ]
  },
  {
   "cell_type": "code",
   "execution_count": 186,
   "metadata": {},
   "outputs": [],
   "source": [
    "#Calculate VAR, which is the average Net Profit by actor divided by average Net Profit for all movies.\n",
    "actor_total = actors_df.groupby(['value'],  as_index=False)['Net Profit'].mean().sort_values(by='Net Profit', ascending=False)\n",
    "actor_total['VAR'] = (actor_total['Net Profit']/actor_total['Net Profit'].mean())"
   ]
  },
  {
   "cell_type": "code",
   "execution_count": 187,
   "metadata": {},
   "outputs": [
    {
     "data": {
      "text/html": [
       "<div>\n",
       "<style scoped>\n",
       "    .dataframe tbody tr th:only-of-type {\n",
       "        vertical-align: middle;\n",
       "    }\n",
       "\n",
       "    .dataframe tbody tr th {\n",
       "        vertical-align: top;\n",
       "    }\n",
       "\n",
       "    .dataframe thead th {\n",
       "        text-align: right;\n",
       "    }\n",
       "</style>\n",
       "<table border=\"1\" class=\"dataframe\">\n",
       "  <thead>\n",
       "    <tr style=\"text-align: right;\">\n",
       "      <th></th>\n",
       "      <th>value</th>\n",
       "      <th>Net Profit</th>\n",
       "      <th>VAR</th>\n",
       "    </tr>\n",
       "  </thead>\n",
       "  <tbody>\n",
       "    <tr>\n",
       "      <td>113</td>\n",
       "      <td>Ian McKellen</td>\n",
       "      <td>6.426411e+08</td>\n",
       "      <td>4.562969</td>\n",
       "    </tr>\n",
       "    <tr>\n",
       "      <td>88</td>\n",
       "      <td>Emma Watson</td>\n",
       "      <td>5.940703e+08</td>\n",
       "      <td>4.218100</td>\n",
       "    </tr>\n",
       "    <tr>\n",
       "      <td>48</td>\n",
       "      <td>Chris Hemsworth</td>\n",
       "      <td>5.509931e+08</td>\n",
       "      <td>3.912237</td>\n",
       "    </tr>\n",
       "    <tr>\n",
       "      <td>47</td>\n",
       "      <td>Chris Evans</td>\n",
       "      <td>5.183979e+08</td>\n",
       "      <td>3.680800</td>\n",
       "    </tr>\n",
       "    <tr>\n",
       "      <td>262</td>\n",
       "      <td>Robert Downey Jr.</td>\n",
       "      <td>4.848850e+08</td>\n",
       "      <td>3.442847</td>\n",
       "    </tr>\n",
       "    <tr>\n",
       "      <td>82</td>\n",
       "      <td>Elijah Wood</td>\n",
       "      <td>4.684149e+08</td>\n",
       "      <td>3.325904</td>\n",
       "    </tr>\n",
       "    <tr>\n",
       "      <td>227</td>\n",
       "      <td>Mike Myers</td>\n",
       "      <td>4.516160e+08</td>\n",
       "      <td>3.206626</td>\n",
       "    </tr>\n",
       "    <tr>\n",
       "      <td>324</td>\n",
       "      <td>Zoe Saldana</td>\n",
       "      <td>4.184140e+08</td>\n",
       "      <td>2.970881</td>\n",
       "    </tr>\n",
       "    <tr>\n",
       "      <td>205</td>\n",
       "      <td>Mark Ruffalo</td>\n",
       "      <td>4.180517e+08</td>\n",
       "      <td>2.968308</td>\n",
       "    </tr>\n",
       "    <tr>\n",
       "      <td>166</td>\n",
       "      <td>Josh Hutcherson</td>\n",
       "      <td>3.899468e+08</td>\n",
       "      <td>2.768754</td>\n",
       "    </tr>\n",
       "    <tr>\n",
       "      <td>197</td>\n",
       "      <td>Leonardo DiCaprio</td>\n",
       "      <td>3.479298e+08</td>\n",
       "      <td>2.470419</td>\n",
       "    </tr>\n",
       "    <tr>\n",
       "      <td>164</td>\n",
       "      <td>Josh Duhamel</td>\n",
       "      <td>3.476687e+08</td>\n",
       "      <td>2.468565</td>\n",
       "    </tr>\n",
       "    <tr>\n",
       "      <td>178</td>\n",
       "      <td>Kathy Bates</td>\n",
       "      <td>3.472013e+08</td>\n",
       "      <td>2.465247</td>\n",
       "    </tr>\n",
       "    <tr>\n",
       "      <td>316</td>\n",
       "      <td>Will Smith</td>\n",
       "      <td>3.360025e+08</td>\n",
       "      <td>2.385732</td>\n",
       "    </tr>\n",
       "    <tr>\n",
       "      <td>138</td>\n",
       "      <td>Jennifer Lawrence</td>\n",
       "      <td>3.347442e+08</td>\n",
       "      <td>2.376797</td>\n",
       "    </tr>\n",
       "    <tr>\n",
       "      <td>299</td>\n",
       "      <td>Tom Hanks</td>\n",
       "      <td>3.207917e+08</td>\n",
       "      <td>2.277730</td>\n",
       "    </tr>\n",
       "    <tr>\n",
       "      <td>285</td>\n",
       "      <td>Shia LaBeouf</td>\n",
       "      <td>3.205221e+08</td>\n",
       "      <td>2.275816</td>\n",
       "    </tr>\n",
       "    <tr>\n",
       "      <td>45</td>\n",
       "      <td>Chiwetel Ejiofor</td>\n",
       "      <td>3.118627e+08</td>\n",
       "      <td>2.214331</td>\n",
       "    </tr>\n",
       "    <tr>\n",
       "      <td>308</td>\n",
       "      <td>Vin Diesel</td>\n",
       "      <td>3.098191e+08</td>\n",
       "      <td>2.199820</td>\n",
       "    </tr>\n",
       "    <tr>\n",
       "      <td>78</td>\n",
       "      <td>Dwayne Johnson</td>\n",
       "      <td>3.085385e+08</td>\n",
       "      <td>2.190728</td>\n",
       "    </tr>\n",
       "    <tr>\n",
       "      <td>108</td>\n",
       "      <td>Helena Bonham Carter</td>\n",
       "      <td>3.017122e+08</td>\n",
       "      <td>2.142259</td>\n",
       "    </tr>\n",
       "    <tr>\n",
       "      <td>296</td>\n",
       "      <td>Tim Allen</td>\n",
       "      <td>2.986794e+08</td>\n",
       "      <td>2.120724</td>\n",
       "    </tr>\n",
       "    <tr>\n",
       "      <td>36</td>\n",
       "      <td>Cameron Diaz</td>\n",
       "      <td>2.957204e+08</td>\n",
       "      <td>2.099715</td>\n",
       "    </tr>\n",
       "    <tr>\n",
       "      <td>298</td>\n",
       "      <td>Tom Cruise</td>\n",
       "      <td>2.872906e+08</td>\n",
       "      <td>2.039860</td>\n",
       "    </tr>\n",
       "    <tr>\n",
       "      <td>13</td>\n",
       "      <td>Anne Hathaway</td>\n",
       "      <td>2.867629e+08</td>\n",
       "      <td>2.036114</td>\n",
       "    </tr>\n",
       "  </tbody>\n",
       "</table>\n",
       "</div>"
      ],
      "text/plain": [
       "                    value    Net Profit       VAR\n",
       "113          Ian McKellen  6.426411e+08  4.562969\n",
       "88            Emma Watson  5.940703e+08  4.218100\n",
       "48        Chris Hemsworth  5.509931e+08  3.912237\n",
       "47            Chris Evans  5.183979e+08  3.680800\n",
       "262     Robert Downey Jr.  4.848850e+08  3.442847\n",
       "82            Elijah Wood  4.684149e+08  3.325904\n",
       "227            Mike Myers  4.516160e+08  3.206626\n",
       "324           Zoe Saldana  4.184140e+08  2.970881\n",
       "205          Mark Ruffalo  4.180517e+08  2.968308\n",
       "166       Josh Hutcherson  3.899468e+08  2.768754\n",
       "197     Leonardo DiCaprio  3.479298e+08  2.470419\n",
       "164          Josh Duhamel  3.476687e+08  2.468565\n",
       "178           Kathy Bates  3.472013e+08  2.465247\n",
       "316            Will Smith  3.360025e+08  2.385732\n",
       "138     Jennifer Lawrence  3.347442e+08  2.376797\n",
       "299             Tom Hanks  3.207917e+08  2.277730\n",
       "285          Shia LaBeouf  3.205221e+08  2.275816\n",
       "45       Chiwetel Ejiofor  3.118627e+08  2.214331\n",
       "308            Vin Diesel  3.098191e+08  2.199820\n",
       "78         Dwayne Johnson  3.085385e+08  2.190728\n",
       "108  Helena Bonham Carter  3.017122e+08  2.142259\n",
       "296             Tim Allen  2.986794e+08  2.120724\n",
       "36           Cameron Diaz  2.957204e+08  2.099715\n",
       "298            Tom Cruise  2.872906e+08  2.039860\n",
       "13          Anne Hathaway  2.867629e+08  2.036114"
      ]
     },
     "execution_count": 187,
     "metadata": {},
     "output_type": "execute_result"
    }
   ],
   "source": [
    "#Create new table consisting of top 25 actors by VAR.\n",
    "top_actors = actor_total.head(25)\n",
    "top_actors"
   ]
  },
  {
   "cell_type": "code",
   "execution_count": 188,
   "metadata": {},
   "outputs": [
    {
     "data": {
      "text/plain": [
       "[Text(0, 0.5, 'Actor'), Text(0.5, 1.0, 'VAR By Actor Compared to Average')]"
      ]
     },
     "execution_count": 188,
     "metadata": {},
     "output_type": "execute_result"
    },
    {
     "data": {
      "image/png": "[encoded data removed]",
      "text/plain": [
       "<Figure size 1008x504 with 1 Axes>"
      ]
     },
     "metadata": {
      "needs_background": "light"
     },
     "output_type": "display_data"
    }
   ],
   "source": [
    "#Plot above finding and label the average of 1 with a black line.\n",
    "plt.figure(figsize=(14,7))\n",
    "ax6 = sns.barplot(x=top_actors['VAR'], y=top_actors['value'])\n",
    "ax6.axvline(1, ls='-', color='black', linewidth=3)\n",
    "ax6.set(ylabel='Actor', title='VAR By Actor Compared to Average')"
   ]
  },
  {
   "cell_type": "markdown",
   "metadata": {},
   "source": [
    "Wow, from this list we can see that all of these actors consistently appear in very profitable movies; anywhere from two times the norm to four and a half times the norm. When casting a movie this is a good short-list from where to start making calls."
   ]
  },
  {
   "cell_type": "code",
   "execution_count": 189,
   "metadata": {},
   "outputs": [],
   "source": [
    "#Adjust directors table for inflation.\n",
    "directors_df['Production Budget'] = (((2020-directors_df['Year'])*.0322)+1)*directors_df['Production Budget']\n",
    "directors_df['Worldwide Gross'] = (((2020-directors_df['Year'])*.0322)+1)*directors_df['Worldwide Gross']\n",
    "directors_df['Domestic Gross'] = (((2020-directors_df['Year'])*.0322)+1)*directors_df['Domestic Gross']"
   ]
  },
  {
   "cell_type": "code",
   "execution_count": 190,
   "metadata": {},
   "outputs": [],
   "source": [
    "#Calucalte Net Profit and Profit Margin.\n",
    "directors_df['Net Profit'] = directors_df['Worldwide Gross'] - directors_df['Production Budget']\n",
    "directors_df['Profit Margin'] = directors_df['Net Profit'] / directors_df['Worldwide Gross']"
   ]
  },
  {
   "cell_type": "code",
   "execution_count": 191,
   "metadata": {},
   "outputs": [],
   "source": [
    "#Let's filter the actors_df table to only include actors that appeared in 5 or more movies.\n",
    "director_counts = directors_df['value'].value_counts()\n",
    "director_list = director_counts[director_counts >= 5].index.tolist()\n",
    "directors_df = directors_df[directors_df['value'].isin(director_list)]"
   ]
  },
  {
   "cell_type": "code",
   "execution_count": 192,
   "metadata": {},
   "outputs": [],
   "source": [
    "#Calculate VAR, which is the average Net Profit by director divided by average Net Profit for all movies.\n",
    "director_total = directors_df.groupby(['value'],  as_index=False)['Net Profit'].mean().sort_values(by='Net Profit', ascending=False)\n",
    "director_total['VAR'] = (director_total['Net Profit']/actor_total['Net Profit'].mean())"
   ]
  },
  {
   "cell_type": "code",
   "execution_count": 193,
   "metadata": {},
   "outputs": [
    {
     "data": {
      "text/html": [
       "<div>\n",
       "<style scoped>\n",
       "    .dataframe tbody tr th:only-of-type {\n",
       "        vertical-align: middle;\n",
       "    }\n",
       "\n",
       "    .dataframe tbody tr th {\n",
       "        vertical-align: top;\n",
       "    }\n",
       "\n",
       "    .dataframe thead th {\n",
       "        text-align: right;\n",
       "    }\n",
       "</style>\n",
       "<table border=\"1\" class=\"dataframe\">\n",
       "  <thead>\n",
       "    <tr style=\"text-align: right;\">\n",
       "      <th></th>\n",
       "      <th>value</th>\n",
       "      <th>Net Profit</th>\n",
       "      <th>VAR</th>\n",
       "    </tr>\n",
       "  </thead>\n",
       "  <tbody>\n",
       "    <tr>\n",
       "      <td>78</td>\n",
       "      <td>James Cameron</td>\n",
       "      <td>1.244750e+09</td>\n",
       "      <td>8.838147</td>\n",
       "    </tr>\n",
       "    <tr>\n",
       "      <td>11</td>\n",
       "      <td>Anthony Russo</td>\n",
       "      <td>1.017389e+09</td>\n",
       "      <td>7.223809</td>\n",
       "    </tr>\n",
       "    <tr>\n",
       "      <td>89</td>\n",
       "      <td>Joe Russo</td>\n",
       "      <td>1.017389e+09</td>\n",
       "      <td>7.223809</td>\n",
       "    </tr>\n",
       "    <tr>\n",
       "      <td>115</td>\n",
       "      <td>Lee Unkrich</td>\n",
       "      <td>9.120679e+08</td>\n",
       "      <td>6.475990</td>\n",
       "    </tr>\n",
       "    <tr>\n",
       "      <td>148</td>\n",
       "      <td>Peter Jackson</td>\n",
       "      <td>8.218780e+08</td>\n",
       "      <td>5.835612</td>\n",
       "    </tr>\n",
       "    <tr>\n",
       "      <td>50</td>\n",
       "      <td>David Yates</td>\n",
       "      <td>6.881352e+08</td>\n",
       "      <td>4.885993</td>\n",
       "    </tr>\n",
       "    <tr>\n",
       "      <td>104</td>\n",
       "      <td>Jon Favreau</td>\n",
       "      <td>6.287041e+08</td>\n",
       "      <td>4.464012</td>\n",
       "    </tr>\n",
       "    <tr>\n",
       "      <td>129</td>\n",
       "      <td>Michael Bay</td>\n",
       "      <td>5.888046e+08</td>\n",
       "      <td>4.180712</td>\n",
       "    </tr>\n",
       "    <tr>\n",
       "      <td>96</td>\n",
       "      <td>John Lasseter</td>\n",
       "      <td>5.772545e+08</td>\n",
       "      <td>4.098702</td>\n",
       "    </tr>\n",
       "    <tr>\n",
       "      <td>31</td>\n",
       "      <td>Christopher Nolan</td>\n",
       "      <td>5.765089e+08</td>\n",
       "      <td>4.093408</td>\n",
       "    </tr>\n",
       "    <tr>\n",
       "      <td>194</td>\n",
       "      <td>Tom McGrath</td>\n",
       "      <td>5.580268e+08</td>\n",
       "      <td>3.962179</td>\n",
       "    </tr>\n",
       "    <tr>\n",
       "      <td>27</td>\n",
       "      <td>Carlos Saldanha</td>\n",
       "      <td>5.423276e+08</td>\n",
       "      <td>3.850709</td>\n",
       "    </tr>\n",
       "    <tr>\n",
       "      <td>34</td>\n",
       "      <td>Conrad Vernon</td>\n",
       "      <td>5.335548e+08</td>\n",
       "      <td>3.788419</td>\n",
       "    </tr>\n",
       "    <tr>\n",
       "      <td>19</td>\n",
       "      <td>Brad Bird</td>\n",
       "      <td>5.229186e+08</td>\n",
       "      <td>3.712899</td>\n",
       "    </tr>\n",
       "    <tr>\n",
       "      <td>82</td>\n",
       "      <td>James Wan</td>\n",
       "      <td>5.178435e+08</td>\n",
       "      <td>3.676864</td>\n",
       "    </tr>\n",
       "    <tr>\n",
       "      <td>58</td>\n",
       "      <td>Eric Darnell</td>\n",
       "      <td>5.065710e+08</td>\n",
       "      <td>3.596825</td>\n",
       "    </tr>\n",
       "    <tr>\n",
       "      <td>188</td>\n",
       "      <td>Steven Spielberg</td>\n",
       "      <td>4.904032e+08</td>\n",
       "      <td>3.482029</td>\n",
       "    </tr>\n",
       "    <tr>\n",
       "      <td>200</td>\n",
       "      <td>Wilfred Jackson</td>\n",
       "      <td>4.736758e+08</td>\n",
       "      <td>3.363258</td>\n",
       "    </tr>\n",
       "    <tr>\n",
       "      <td>160</td>\n",
       "      <td>Rob Minkoff</td>\n",
       "      <td>4.536318e+08</td>\n",
       "      <td>3.220939</td>\n",
       "    </tr>\n",
       "    <tr>\n",
       "      <td>62</td>\n",
       "      <td>Francis Lawrence</td>\n",
       "      <td>4.391175e+08</td>\n",
       "      <td>3.117883</td>\n",
       "    </tr>\n",
       "    <tr>\n",
       "      <td>29</td>\n",
       "      <td>Chris Columbus</td>\n",
       "      <td>4.343154e+08</td>\n",
       "      <td>3.083786</td>\n",
       "    </tr>\n",
       "    <tr>\n",
       "      <td>171</td>\n",
       "      <td>Ron Clements</td>\n",
       "      <td>3.961859e+08</td>\n",
       "      <td>2.813054</td>\n",
       "    </tr>\n",
       "    <tr>\n",
       "      <td>101</td>\n",
       "      <td>John Musker</td>\n",
       "      <td>3.961859e+08</td>\n",
       "      <td>2.813054</td>\n",
       "    </tr>\n",
       "    <tr>\n",
       "      <td>169</td>\n",
       "      <td>Roland Emmerich</td>\n",
       "      <td>3.912187e+08</td>\n",
       "      <td>2.777785</td>\n",
       "    </tr>\n",
       "    <tr>\n",
       "      <td>175</td>\n",
       "      <td>Sam Raimi</td>\n",
       "      <td>3.641019e+08</td>\n",
       "      <td>2.585247</td>\n",
       "    </tr>\n",
       "  </tbody>\n",
       "</table>\n",
       "</div>"
      ],
      "text/plain": [
       "                 value    Net Profit       VAR\n",
       "78       James Cameron  1.244750e+09  8.838147\n",
       "11       Anthony Russo  1.017389e+09  7.223809\n",
       "89           Joe Russo  1.017389e+09  7.223809\n",
       "115        Lee Unkrich  9.120679e+08  6.475990\n",
       "148      Peter Jackson  8.218780e+08  5.835612\n",
       "50         David Yates  6.881352e+08  4.885993\n",
       "104        Jon Favreau  6.287041e+08  4.464012\n",
       "129        Michael Bay  5.888046e+08  4.180712\n",
       "96       John Lasseter  5.772545e+08  4.098702\n",
       "31   Christopher Nolan  5.765089e+08  4.093408\n",
       "194        Tom McGrath  5.580268e+08  3.962179\n",
       "27     Carlos Saldanha  5.423276e+08  3.850709\n",
       "34       Conrad Vernon  5.335548e+08  3.788419\n",
       "19           Brad Bird  5.229186e+08  3.712899\n",
       "82           James Wan  5.178435e+08  3.676864\n",
       "58        Eric Darnell  5.065710e+08  3.596825\n",
       "188   Steven Spielberg  4.904032e+08  3.482029\n",
       "200    Wilfred Jackson  4.736758e+08  3.363258\n",
       "160        Rob Minkoff  4.536318e+08  3.220939\n",
       "62    Francis Lawrence  4.391175e+08  3.117883\n",
       "29      Chris Columbus  4.343154e+08  3.083786\n",
       "171       Ron Clements  3.961859e+08  2.813054\n",
       "101        John Musker  3.961859e+08  2.813054\n",
       "169    Roland Emmerich  3.912187e+08  2.777785\n",
       "175          Sam Raimi  3.641019e+08  2.585247"
      ]
     },
     "execution_count": 193,
     "metadata": {},
     "output_type": "execute_result"
    }
   ],
   "source": [
    "#Create new table consisting of top 25 directors by VAR.\n",
    "top_directors = director_total.head(25)\n",
    "top_directors"
   ]
  },
  {
   "cell_type": "code",
   "execution_count": 194,
   "metadata": {},
   "outputs": [
    {
     "data": {
      "text/plain": [
       "[Text(0, 0.5, 'Director'),\n",
       " Text(0.5, 1.0, 'VAR By Director Compared to Average')]"
      ]
     },
     "execution_count": 194,
     "metadata": {},
     "output_type": "execute_result"
    },
    {
     "data": {
      "image/png": "[encoded data removed]",
      "text/plain": [
       "<Figure size 1008x504 with 1 Axes>"
      ]
     },
     "metadata": {
      "needs_background": "light"
     },
     "output_type": "display_data"
    }
   ],
   "source": [
    "#Plot above finding and label the average of 1 with a black line.\n",
    "plt.figure(figsize=(14,7))\n",
    "ax7 = sns.barplot(x=top_directors['VAR'], y=top_directors['value'])\n",
    "ax7.axvline(1, ls='-', color='black', linewidth=3)\n",
    "ax7.set(ylabel='Director', title='VAR By Director Compared to Average')"
   ]
  },
  {
   "cell_type": "markdown",
   "metadata": {},
   "source": [
    "It appears that the most significant value added comes from the directors chair. James Cameron movies on average make almost nine times the amount of the average movie, this emphasizes what great leadership represents on a set."
   ]
  },
  {
   "cell_type": "markdown",
   "metadata": {},
   "source": [
    "If we had more time we could determine which genre each actor and director find the most success."
   ]
  }
 ],
 "metadata": {
  "kernelspec": {
   "display_name": "Python 3",
   "language": "python",
   "name": "python3"
  },
  "language_info": {
   "codemirror_mode": {
    "name": "ipython",
    "version": 3
   },
   "file_extension": ".py",
   "mimetype": "text/x-python",
   "name": "python",
   "nbconvert_exporter": "python",
   "pygments_lexer": "ipython3",
   "version": "3.7.6"
  },
  "toc": {
   "base_numbering": 1,
   "nav_menu": {},
   "number_sections": true,
   "sideBar": true,
   "skip_h1_title": false,
   "title_cell": "Table of Contents",
   "title_sidebar": "Contents",
   "toc_cell": false,
   "toc_position": {},
   "toc_section_display": true,
   "toc_window_display": false
  },
  "varInspector": {
   "cols": {
    "lenName": 16,
    "lenType": 16,
    "lenVar": 40
   },
   "kernels_config": {
    "python": {
     "delete_cmd_postfix": "",
     "delete_cmd_prefix": "del ",
     "library": "var_list.py",
     "varRefreshCmd": "print(var_dic_list())"
    },
    "r": {
     "delete_cmd_postfix": ") ",
     "delete_cmd_prefix": "rm(",
     "library": "var_list.r",
     "varRefreshCmd": "cat(var_dic_list()) "
    }
   },
   "types_to_exclude": [
    "module",
    "function",
    "builtin_function_or_method",
    "instance",
    "_Feature"
   ],
   "window_display": false
  }
 },
 "nbformat": 4,
 "nbformat_minor": 2
}
