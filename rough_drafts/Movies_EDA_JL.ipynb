{
 "cells": [
  {
   "cell_type": "markdown",
   "metadata": {},
   "source": [
    "# Movie Industry EDA"
   ]
  },
  {
   "cell_type": "markdown",
   "metadata": {},
   "source": [
    "### Let's import libraries we may need for our analysis and import the dataframes."
   ]
  },
  {
   "cell_type": "code",
   "execution_count": 1,
   "metadata": {
    "ExecuteTime": {
     "end_time": "2020-07-21T20:36:19.434478Z",
     "start_time": "2020-07-21T20:36:17.078455Z"
    }
   },
   "outputs": [],
   "source": [
    "import pandas as pd\n",
    "import seaborn as sns\n",
    "import matplotlib.pyplot as plt\n",
    "import datetime as dt\n",
    "import matplotlib.ticker as ticker\n",
    "%matplotlib inline\n"
   ]
  },
  {
   "cell_type": "code",
   "execution_count": 2,
   "metadata": {
    "ExecuteTime": {
     "end_time": "2020-07-21T20:36:19.666364Z",
     "start_time": "2020-07-21T20:36:19.439311Z"
    }
   },
   "outputs": [],
   "source": [
    "movie_dates_df = pd.read_csv('movie_release_dates.csv', index_col=0)\n",
    "theaters_df = pd.read_csv('movie_theater_data.csv', index_col=0)\n",
    "awards_df = pd.read_csv('movie_awards.csv', index_col=0)\n",
    "actors_df = pd.read_csv('Actors_Table.csv')\n",
    "directors_df = pd.read_csv('Directors_Table.csv')\n",
    "imdb_base_df = pd.read_csv('IMDb_base.csv')\n",
    "imdb_budgets_df = pd.read_csv('IMDb_budgets.csv')"
   ]
  },
  {
   "cell_type": "markdown",
   "metadata": {},
   "source": [
    "Let's preview the head of each dataframe so we know what data we are working with."
   ]
  },
  {
   "cell_type": "code",
   "execution_count": 3,
   "metadata": {
    "ExecuteTime": {
     "end_time": "2020-07-21T20:36:19.703077Z",
     "start_time": "2020-07-21T20:36:19.669754Z"
    }
   },
   "outputs": [
    {
     "data": {
      "text/html": [
       "<div>\n",
       "<style scoped>\n",
       "    .dataframe tbody tr th:only-of-type {\n",
       "        vertical-align: middle;\n",
       "    }\n",
       "\n",
       "    .dataframe tbody tr th {\n",
       "        vertical-align: top;\n",
       "    }\n",
       "\n",
       "    .dataframe thead th {\n",
       "        text-align: right;\n",
       "    }\n",
       "</style>\n",
       "<table border=\"1\" class=\"dataframe\">\n",
       "  <thead>\n",
       "    <tr style=\"text-align: right;\">\n",
       "      <th></th>\n",
       "      <th>movie</th>\n",
       "      <th>release_date</th>\n",
       "      <th>release_month</th>\n",
       "      <th>release_day</th>\n",
       "      <th>release_year</th>\n",
       "    </tr>\n",
       "  </thead>\n",
       "  <tbody>\n",
       "    <tr>\n",
       "      <td>0</td>\n",
       "      <td>Metropolis</td>\n",
       "      <td>1927-03-06</td>\n",
       "      <td>March</td>\n",
       "      <td>Sunday</td>\n",
       "      <td>1927</td>\n",
       "    </tr>\n",
       "    <tr>\n",
       "      <td>1</td>\n",
       "      <td>Dr. Mabuse, the Gambler</td>\n",
       "      <td>1927-08-08</td>\n",
       "      <td>August</td>\n",
       "      <td>Monday</td>\n",
       "      <td>1927</td>\n",
       "    </tr>\n",
       "    <tr>\n",
       "      <td>2</td>\n",
       "      <td>The Unknown</td>\n",
       "      <td>1927-06-03</td>\n",
       "      <td>June</td>\n",
       "      <td>Friday</td>\n",
       "      <td>1927</td>\n",
       "    </tr>\n",
       "    <tr>\n",
       "      <td>3</td>\n",
       "      <td>The Jazz Singer</td>\n",
       "      <td>1927-10-06</td>\n",
       "      <td>October</td>\n",
       "      <td>Thursday</td>\n",
       "      <td>1927</td>\n",
       "    </tr>\n",
       "    <tr>\n",
       "      <td>4</td>\n",
       "      <td>Chicago</td>\n",
       "      <td>1927-12-23</td>\n",
       "      <td>December</td>\n",
       "      <td>Friday</td>\n",
       "      <td>1927</td>\n",
       "    </tr>\n",
       "  </tbody>\n",
       "</table>\n",
       "</div>"
      ],
      "text/plain": [
       "                     movie release_date release_month release_day  \\\n",
       "0               Metropolis   1927-03-06         March      Sunday   \n",
       "1  Dr. Mabuse, the Gambler   1927-08-08        August      Monday   \n",
       "2              The Unknown   1927-06-03          June      Friday   \n",
       "3          The Jazz Singer   1927-10-06       October    Thursday   \n",
       "4                  Chicago   1927-12-23      December      Friday   \n",
       "\n",
       "   release_year  \n",
       "0          1927  \n",
       "1          1927  \n",
       "2          1927  \n",
       "3          1927  \n",
       "4          1927  "
      ]
     },
     "execution_count": 3,
     "metadata": {},
     "output_type": "execute_result"
    }
   ],
   "source": [
    "movie_dates_df.head()"
   ]
  },
  {
   "cell_type": "code",
   "execution_count": 4,
   "metadata": {
    "ExecuteTime": {
     "end_time": "2020-07-21T20:36:19.729839Z",
     "start_time": "2020-07-21T20:36:19.709727Z"
    }
   },
   "outputs": [
    {
     "data": {
      "text/html": [
       "<div>\n",
       "<style scoped>\n",
       "    .dataframe tbody tr th:only-of-type {\n",
       "        vertical-align: middle;\n",
       "    }\n",
       "\n",
       "    .dataframe tbody tr th {\n",
       "        vertical-align: top;\n",
       "    }\n",
       "\n",
       "    .dataframe thead th {\n",
       "        text-align: right;\n",
       "    }\n",
       "</style>\n",
       "<table border=\"1\" class=\"dataframe\">\n",
       "  <thead>\n",
       "    <tr style=\"text-align: right;\">\n",
       "      <th></th>\n",
       "      <th>title</th>\n",
       "      <th>max_theaters</th>\n",
       "      <th>year</th>\n",
       "      <th>total_dom_gross($)</th>\n",
       "      <th>studio</th>\n",
       "    </tr>\n",
       "  </thead>\n",
       "  <tbody>\n",
       "    <tr>\n",
       "      <td>0</td>\n",
       "      <td>The Lion King</td>\n",
       "      <td>4802</td>\n",
       "      <td>2019</td>\n",
       "      <td>543638043</td>\n",
       "      <td>Disney</td>\n",
       "    </tr>\n",
       "    <tr>\n",
       "      <td>1</td>\n",
       "      <td>Avengers: Endgame</td>\n",
       "      <td>4662</td>\n",
       "      <td>2019</td>\n",
       "      <td>858373000</td>\n",
       "      <td>Disney</td>\n",
       "    </tr>\n",
       "    <tr>\n",
       "      <td>2</td>\n",
       "      <td>Spider-Man: Far from Home</td>\n",
       "      <td>4634</td>\n",
       "      <td>2019</td>\n",
       "      <td>390532085</td>\n",
       "      <td>Sony</td>\n",
       "    </tr>\n",
       "    <tr>\n",
       "      <td>3</td>\n",
       "      <td>Toy Story 4</td>\n",
       "      <td>4575</td>\n",
       "      <td>2019</td>\n",
       "      <td>434038008</td>\n",
       "      <td>Disney</td>\n",
       "    </tr>\n",
       "    <tr>\n",
       "      <td>4</td>\n",
       "      <td>It Chapter Two</td>\n",
       "      <td>4570</td>\n",
       "      <td>2019</td>\n",
       "      <td>211593228</td>\n",
       "      <td>Warner Bros.</td>\n",
       "    </tr>\n",
       "  </tbody>\n",
       "</table>\n",
       "</div>"
      ],
      "text/plain": [
       "                       title  max_theaters  year  total_dom_gross($)  \\\n",
       "0              The Lion King          4802  2019           543638043   \n",
       "1          Avengers: Endgame          4662  2019           858373000   \n",
       "2  Spider-Man: Far from Home          4634  2019           390532085   \n",
       "3                Toy Story 4          4575  2019           434038008   \n",
       "4             It Chapter Two          4570  2019           211593228   \n",
       "\n",
       "         studio  \n",
       "0        Disney  \n",
       "1        Disney  \n",
       "2          Sony  \n",
       "3        Disney  \n",
       "4  Warner Bros.  "
      ]
     },
     "execution_count": 4,
     "metadata": {},
     "output_type": "execute_result"
    }
   ],
   "source": [
    "theaters_df.head()"
   ]
  },
  {
   "cell_type": "code",
   "execution_count": 5,
   "metadata": {
    "ExecuteTime": {
     "end_time": "2020-07-21T20:36:19.758064Z",
     "start_time": "2020-07-21T20:36:19.733043Z"
    }
   },
   "outputs": [
    {
     "data": {
      "text/html": [
       "<div>\n",
       "<style scoped>\n",
       "    .dataframe tbody tr th:only-of-type {\n",
       "        vertical-align: middle;\n",
       "    }\n",
       "\n",
       "    .dataframe tbody tr th {\n",
       "        vertical-align: top;\n",
       "    }\n",
       "\n",
       "    .dataframe thead th {\n",
       "        text-align: right;\n",
       "    }\n",
       "</style>\n",
       "<table border=\"1\" class=\"dataframe\">\n",
       "  <thead>\n",
       "    <tr style=\"text-align: right;\">\n",
       "      <th></th>\n",
       "      <th>Movie</th>\n",
       "      <th>Year</th>\n",
       "      <th>value</th>\n",
       "      <th>Release Date</th>\n",
       "      <th>Production Budget</th>\n",
       "      <th>Domestic Gross</th>\n",
       "      <th>Worldwide Gross</th>\n",
       "    </tr>\n",
       "  </thead>\n",
       "  <tbody>\n",
       "    <tr>\n",
       "      <td>0</td>\n",
       "      <td>Avengers: Endgame</td>\n",
       "      <td>2019</td>\n",
       "      <td>Robert Downey Jr.</td>\n",
       "      <td>Apr 23, 2019</td>\n",
       "      <td>400000000</td>\n",
       "      <td>858373000</td>\n",
       "      <td>2797800564</td>\n",
       "    </tr>\n",
       "    <tr>\n",
       "      <td>1</td>\n",
       "      <td>Avengers: Endgame</td>\n",
       "      <td>2019</td>\n",
       "      <td>Chris Evans</td>\n",
       "      <td>Apr 23, 2019</td>\n",
       "      <td>400000000</td>\n",
       "      <td>858373000</td>\n",
       "      <td>2797800564</td>\n",
       "    </tr>\n",
       "    <tr>\n",
       "      <td>2</td>\n",
       "      <td>Avengers: Endgame</td>\n",
       "      <td>2019</td>\n",
       "      <td>Mark Ruffalo</td>\n",
       "      <td>Apr 23, 2019</td>\n",
       "      <td>400000000</td>\n",
       "      <td>858373000</td>\n",
       "      <td>2797800564</td>\n",
       "    </tr>\n",
       "    <tr>\n",
       "      <td>3</td>\n",
       "      <td>Avengers: Endgame</td>\n",
       "      <td>2019</td>\n",
       "      <td>Chris Hemsworth</td>\n",
       "      <td>Apr 23, 2019</td>\n",
       "      <td>400000000</td>\n",
       "      <td>858373000</td>\n",
       "      <td>2797800564</td>\n",
       "    </tr>\n",
       "    <tr>\n",
       "      <td>4</td>\n",
       "      <td>Avatar</td>\n",
       "      <td>2009</td>\n",
       "      <td>Sam Worthington</td>\n",
       "      <td>Dec 17, 2009</td>\n",
       "      <td>237000000</td>\n",
       "      <td>760507625</td>\n",
       "      <td>2788701337</td>\n",
       "    </tr>\n",
       "  </tbody>\n",
       "</table>\n",
       "</div>"
      ],
      "text/plain": [
       "               Movie  Year              value  Release Date  \\\n",
       "0  Avengers: Endgame  2019  Robert Downey Jr.  Apr 23, 2019   \n",
       "1  Avengers: Endgame  2019        Chris Evans  Apr 23, 2019   \n",
       "2  Avengers: Endgame  2019       Mark Ruffalo  Apr 23, 2019   \n",
       "3  Avengers: Endgame  2019    Chris Hemsworth  Apr 23, 2019   \n",
       "4             Avatar  2009    Sam Worthington  Dec 17, 2009   \n",
       "\n",
       "   Production Budget  Domestic Gross  Worldwide Gross  \n",
       "0          400000000       858373000       2797800564  \n",
       "1          400000000       858373000       2797800564  \n",
       "2          400000000       858373000       2797800564  \n",
       "3          400000000       858373000       2797800564  \n",
       "4          237000000       760507625       2788701337  "
      ]
     },
     "execution_count": 5,
     "metadata": {},
     "output_type": "execute_result"
    }
   ],
   "source": [
    "actors_df.head()"
   ]
  },
  {
   "cell_type": "code",
   "execution_count": 6,
   "metadata": {
    "ExecuteTime": {
     "end_time": "2020-07-21T20:36:19.779710Z",
     "start_time": "2020-07-21T20:36:19.761056Z"
    }
   },
   "outputs": [
    {
     "data": {
      "text/html": [
       "<div>\n",
       "<style scoped>\n",
       "    .dataframe tbody tr th:only-of-type {\n",
       "        vertical-align: middle;\n",
       "    }\n",
       "\n",
       "    .dataframe tbody tr th {\n",
       "        vertical-align: top;\n",
       "    }\n",
       "\n",
       "    .dataframe thead th {\n",
       "        text-align: right;\n",
       "    }\n",
       "</style>\n",
       "<table border=\"1\" class=\"dataframe\">\n",
       "  <thead>\n",
       "    <tr style=\"text-align: right;\">\n",
       "      <th></th>\n",
       "      <th>Movie</th>\n",
       "      <th>Year</th>\n",
       "      <th>value</th>\n",
       "      <th>Release Date</th>\n",
       "      <th>Production Budget</th>\n",
       "      <th>Domestic Gross</th>\n",
       "      <th>Worldwide Gross</th>\n",
       "    </tr>\n",
       "  </thead>\n",
       "  <tbody>\n",
       "    <tr>\n",
       "      <td>0</td>\n",
       "      <td>Avengers: Endgame</td>\n",
       "      <td>2019</td>\n",
       "      <td>Joe Russo</td>\n",
       "      <td>Apr 23, 2019</td>\n",
       "      <td>400000000</td>\n",
       "      <td>858373000</td>\n",
       "      <td>2797800564</td>\n",
       "    </tr>\n",
       "    <tr>\n",
       "      <td>1</td>\n",
       "      <td>Avengers: Endgame</td>\n",
       "      <td>2019</td>\n",
       "      <td>Anthony Russo</td>\n",
       "      <td>Apr 23, 2019</td>\n",
       "      <td>400000000</td>\n",
       "      <td>858373000</td>\n",
       "      <td>2797800564</td>\n",
       "    </tr>\n",
       "    <tr>\n",
       "      <td>2</td>\n",
       "      <td>Avatar</td>\n",
       "      <td>2009</td>\n",
       "      <td>James Cameron</td>\n",
       "      <td>Dec 17, 2009</td>\n",
       "      <td>237000000</td>\n",
       "      <td>760507625</td>\n",
       "      <td>2788701337</td>\n",
       "    </tr>\n",
       "    <tr>\n",
       "      <td>3</td>\n",
       "      <td>Black Panther</td>\n",
       "      <td>2018</td>\n",
       "      <td>Ryan Coogler</td>\n",
       "      <td>Feb 13, 2018</td>\n",
       "      <td>200000000</td>\n",
       "      <td>700059566</td>\n",
       "      <td>1346103376</td>\n",
       "    </tr>\n",
       "    <tr>\n",
       "      <td>4</td>\n",
       "      <td>Avengers: Infinity War</td>\n",
       "      <td>2018</td>\n",
       "      <td>Joe Russo</td>\n",
       "      <td>Apr 25, 2018</td>\n",
       "      <td>300000000</td>\n",
       "      <td>678815482</td>\n",
       "      <td>2048359754</td>\n",
       "    </tr>\n",
       "  </tbody>\n",
       "</table>\n",
       "</div>"
      ],
      "text/plain": [
       "                    Movie  Year          value  Release Date  \\\n",
       "0       Avengers: Endgame  2019      Joe Russo  Apr 23, 2019   \n",
       "1       Avengers: Endgame  2019  Anthony Russo  Apr 23, 2019   \n",
       "2                  Avatar  2009  James Cameron  Dec 17, 2009   \n",
       "3           Black Panther  2018   Ryan Coogler  Feb 13, 2018   \n",
       "4  Avengers: Infinity War  2018      Joe Russo  Apr 25, 2018   \n",
       "\n",
       "   Production Budget  Domestic Gross  Worldwide Gross  \n",
       "0          400000000       858373000       2797800564  \n",
       "1          400000000       858373000       2797800564  \n",
       "2          237000000       760507625       2788701337  \n",
       "3          200000000       700059566       1346103376  \n",
       "4          300000000       678815482       2048359754  "
      ]
     },
     "execution_count": 6,
     "metadata": {},
     "output_type": "execute_result"
    }
   ],
   "source": [
    "directors_df.head()"
   ]
  },
  {
   "cell_type": "code",
   "execution_count": 7,
   "metadata": {
    "ExecuteTime": {
     "end_time": "2020-07-21T20:36:19.805372Z",
     "start_time": "2020-07-21T20:36:19.783138Z"
    }
   },
   "outputs": [
    {
     "data": {
      "text/html": [
       "<div>\n",
       "<style scoped>\n",
       "    .dataframe tbody tr th:only-of-type {\n",
       "        vertical-align: middle;\n",
       "    }\n",
       "\n",
       "    .dataframe tbody tr th {\n",
       "        vertical-align: top;\n",
       "    }\n",
       "\n",
       "    .dataframe thead th {\n",
       "        text-align: right;\n",
       "    }\n",
       "</style>\n",
       "<table border=\"1\" class=\"dataframe\">\n",
       "  <thead>\n",
       "    <tr style=\"text-align: right;\">\n",
       "      <th></th>\n",
       "      <th>Movie</th>\n",
       "      <th>Year</th>\n",
       "      <th>IMDb</th>\n",
       "      <th>Rating</th>\n",
       "      <th>Runtime</th>\n",
       "      <th>Genre</th>\n",
       "    </tr>\n",
       "  </thead>\n",
       "  <tbody>\n",
       "    <tr>\n",
       "      <td>0</td>\n",
       "      <td>Star Wars: Episode VII - The Force Awakens</td>\n",
       "      <td>2015</td>\n",
       "      <td>7.9</td>\n",
       "      <td>PG-13</td>\n",
       "      <td>138</td>\n",
       "      <td>Action, Adventure, Sci-Fi</td>\n",
       "    </tr>\n",
       "    <tr>\n",
       "      <td>1</td>\n",
       "      <td>Avengers: Endgame</td>\n",
       "      <td>2019</td>\n",
       "      <td>8.4</td>\n",
       "      <td>PG-13</td>\n",
       "      <td>181</td>\n",
       "      <td>Action, Adventure, Drama</td>\n",
       "    </tr>\n",
       "    <tr>\n",
       "      <td>2</td>\n",
       "      <td>Avatar</td>\n",
       "      <td>2009</td>\n",
       "      <td>7.8</td>\n",
       "      <td>PG-13</td>\n",
       "      <td>162</td>\n",
       "      <td>Action, Adventure, Fantasy</td>\n",
       "    </tr>\n",
       "    <tr>\n",
       "      <td>3</td>\n",
       "      <td>Black Panther</td>\n",
       "      <td>2018</td>\n",
       "      <td>7.3</td>\n",
       "      <td>PG-13</td>\n",
       "      <td>134</td>\n",
       "      <td>Action, Adventure, Sci-Fi</td>\n",
       "    </tr>\n",
       "    <tr>\n",
       "      <td>4</td>\n",
       "      <td>Avengers: Infinity War</td>\n",
       "      <td>2018</td>\n",
       "      <td>8.4</td>\n",
       "      <td>PG-13</td>\n",
       "      <td>149</td>\n",
       "      <td>Action, Adventure, Sci-Fi</td>\n",
       "    </tr>\n",
       "  </tbody>\n",
       "</table>\n",
       "</div>"
      ],
      "text/plain": [
       "                                        Movie  Year  IMDb Rating  Runtime  \\\n",
       "0  Star Wars: Episode VII - The Force Awakens  2015   7.9  PG-13      138   \n",
       "1                           Avengers: Endgame  2019   8.4  PG-13      181   \n",
       "2                                      Avatar  2009   7.8  PG-13      162   \n",
       "3                               Black Panther  2018   7.3  PG-13      134   \n",
       "4                      Avengers: Infinity War  2018   8.4  PG-13      149   \n",
       "\n",
       "                        Genre  \n",
       "0   Action, Adventure, Sci-Fi  \n",
       "1    Action, Adventure, Drama  \n",
       "2  Action, Adventure, Fantasy  \n",
       "3   Action, Adventure, Sci-Fi  \n",
       "4   Action, Adventure, Sci-Fi  "
      ]
     },
     "execution_count": 7,
     "metadata": {},
     "output_type": "execute_result"
    }
   ],
   "source": [
    "imdb_base_df.head()"
   ]
  },
  {
   "cell_type": "code",
   "execution_count": 8,
   "metadata": {
    "ExecuteTime": {
     "end_time": "2020-07-21T20:36:19.831109Z",
     "start_time": "2020-07-21T20:36:19.811595Z"
    }
   },
   "outputs": [
    {
     "data": {
      "text/html": [
       "<div>\n",
       "<style scoped>\n",
       "    .dataframe tbody tr th:only-of-type {\n",
       "        vertical-align: middle;\n",
       "    }\n",
       "\n",
       "    .dataframe tbody tr th {\n",
       "        vertical-align: top;\n",
       "    }\n",
       "\n",
       "    .dataframe thead th {\n",
       "        text-align: right;\n",
       "    }\n",
       "</style>\n",
       "<table border=\"1\" class=\"dataframe\">\n",
       "  <thead>\n",
       "    <tr style=\"text-align: right;\">\n",
       "      <th></th>\n",
       "      <th>Movie</th>\n",
       "      <th>Year</th>\n",
       "      <th>IMDb</th>\n",
       "      <th>Rating</th>\n",
       "      <th>Runtime</th>\n",
       "      <th>Genre</th>\n",
       "      <th>Release Date</th>\n",
       "      <th>Production Budget</th>\n",
       "      <th>Domestic Gross</th>\n",
       "      <th>Worldwide Gross</th>\n",
       "    </tr>\n",
       "  </thead>\n",
       "  <tbody>\n",
       "    <tr>\n",
       "      <td>0</td>\n",
       "      <td>Avengers: Endgame</td>\n",
       "      <td>2019</td>\n",
       "      <td>8.4</td>\n",
       "      <td>PG-13</td>\n",
       "      <td>181</td>\n",
       "      <td>Action, Adventure, Drama</td>\n",
       "      <td>Apr 23, 2019</td>\n",
       "      <td>400000000</td>\n",
       "      <td>858373000</td>\n",
       "      <td>2797800564</td>\n",
       "    </tr>\n",
       "    <tr>\n",
       "      <td>1</td>\n",
       "      <td>Avatar</td>\n",
       "      <td>2009</td>\n",
       "      <td>7.8</td>\n",
       "      <td>PG-13</td>\n",
       "      <td>162</td>\n",
       "      <td>Action, Adventure, Fantasy</td>\n",
       "      <td>Dec 17, 2009</td>\n",
       "      <td>237000000</td>\n",
       "      <td>760507625</td>\n",
       "      <td>2788701337</td>\n",
       "    </tr>\n",
       "    <tr>\n",
       "      <td>2</td>\n",
       "      <td>Black Panther</td>\n",
       "      <td>2018</td>\n",
       "      <td>7.3</td>\n",
       "      <td>PG-13</td>\n",
       "      <td>134</td>\n",
       "      <td>Action, Adventure, Sci-Fi</td>\n",
       "      <td>Feb 13, 2018</td>\n",
       "      <td>200000000</td>\n",
       "      <td>700059566</td>\n",
       "      <td>1346103376</td>\n",
       "    </tr>\n",
       "    <tr>\n",
       "      <td>3</td>\n",
       "      <td>Avengers: Infinity War</td>\n",
       "      <td>2018</td>\n",
       "      <td>8.4</td>\n",
       "      <td>PG-13</td>\n",
       "      <td>149</td>\n",
       "      <td>Action, Adventure, Sci-Fi</td>\n",
       "      <td>Apr 25, 2018</td>\n",
       "      <td>300000000</td>\n",
       "      <td>678815482</td>\n",
       "      <td>2048359754</td>\n",
       "    </tr>\n",
       "    <tr>\n",
       "      <td>4</td>\n",
       "      <td>Titanic</td>\n",
       "      <td>1997</td>\n",
       "      <td>7.8</td>\n",
       "      <td>PG-13</td>\n",
       "      <td>194</td>\n",
       "      <td>Drama, Romance</td>\n",
       "      <td>Dec 18, 1997</td>\n",
       "      <td>200000000</td>\n",
       "      <td>659363944</td>\n",
       "      <td>2208208395</td>\n",
       "    </tr>\n",
       "  </tbody>\n",
       "</table>\n",
       "</div>"
      ],
      "text/plain": [
       "                    Movie  Year  IMDb Rating  Runtime  \\\n",
       "0       Avengers: Endgame  2019   8.4  PG-13      181   \n",
       "1                  Avatar  2009   7.8  PG-13      162   \n",
       "2           Black Panther  2018   7.3  PG-13      134   \n",
       "3  Avengers: Infinity War  2018   8.4  PG-13      149   \n",
       "4                 Titanic  1997   7.8  PG-13      194   \n",
       "\n",
       "                        Genre  Release Date  Production Budget  \\\n",
       "0    Action, Adventure, Drama  Apr 23, 2019          400000000   \n",
       "1  Action, Adventure, Fantasy  Dec 17, 2009          237000000   \n",
       "2   Action, Adventure, Sci-Fi  Feb 13, 2018          200000000   \n",
       "3   Action, Adventure, Sci-Fi  Apr 25, 2018          300000000   \n",
       "4              Drama, Romance  Dec 18, 1997          200000000   \n",
       "\n",
       "   Domestic Gross  Worldwide Gross  \n",
       "0       858373000       2797800564  \n",
       "1       760507625       2788701337  \n",
       "2       700059566       1346103376  \n",
       "3       678815482       2048359754  \n",
       "4       659363944       2208208395  "
      ]
     },
     "execution_count": 8,
     "metadata": {},
     "output_type": "execute_result"
    }
   ],
   "source": [
    "imdb_budgets_df.head()"
   ]
  },
  {
   "cell_type": "markdown",
   "metadata": {},
   "source": [
    "# Question 1: What are the most profitable movies and how much should you spend?\n",
    "\n",
    "Let's calculate profit and profit margin for each of the movies in `imdb_budgets_df` dataframe and add those as new columns.  \n",
    "\n",
    "Here, we'll define profit as `Worldwide Gross`-`Production Budget`.\n",
    "\n",
    "It will also be beneficial in our analysis to have uniformity when discussing movie budgets and profits so we will also create an adjusted budget and adjusted profit column to account for inflation.\n",
    "\n",
    "We will use an average inflation rate of 3.22%."
   ]
  },
  {
   "cell_type": "code",
   "execution_count": 9,
   "metadata": {
    "ExecuteTime": {
     "end_time": "2020-07-21T20:36:19.859160Z",
     "start_time": "2020-07-21T20:36:19.844117Z"
    }
   },
   "outputs": [],
   "source": [
    "imdb_budgets_df['Profit'] = imdb_budgets_df['Worldwide Gross'] - imdb_budgets_df['Production Budget']\n",
    "\n",
    "imdb_budgets_df['Profit_Margin'] = (imdb_budgets_df['Worldwide Gross'] - \n",
    "                                    imdb_budgets_df['Production Budget'])/imdb_budgets_df['Worldwide Gross']"
   ]
  },
  {
   "cell_type": "code",
   "execution_count": 10,
   "metadata": {
    "ExecuteTime": {
     "end_time": "2020-07-21T20:36:19.893544Z",
     "start_time": "2020-07-21T20:36:19.861834Z"
    }
   },
   "outputs": [
    {
     "data": {
      "text/html": [
       "<div>\n",
       "<style scoped>\n",
       "    .dataframe tbody tr th:only-of-type {\n",
       "        vertical-align: middle;\n",
       "    }\n",
       "\n",
       "    .dataframe tbody tr th {\n",
       "        vertical-align: top;\n",
       "    }\n",
       "\n",
       "    .dataframe thead th {\n",
       "        text-align: right;\n",
       "    }\n",
       "</style>\n",
       "<table border=\"1\" class=\"dataframe\">\n",
       "  <thead>\n",
       "    <tr style=\"text-align: right;\">\n",
       "      <th></th>\n",
       "      <th>Movie</th>\n",
       "      <th>Year</th>\n",
       "      <th>IMDb</th>\n",
       "      <th>Rating</th>\n",
       "      <th>Runtime</th>\n",
       "      <th>Genre</th>\n",
       "      <th>Release Date</th>\n",
       "      <th>Production Budget</th>\n",
       "      <th>Domestic Gross</th>\n",
       "      <th>Worldwide Gross</th>\n",
       "      <th>Profit</th>\n",
       "      <th>Profit_Margin</th>\n",
       "      <th>Adjusted_Budget</th>\n",
       "      <th>Adjusted_Profit</th>\n",
       "    </tr>\n",
       "  </thead>\n",
       "  <tbody>\n",
       "    <tr>\n",
       "      <td>0</td>\n",
       "      <td>Avengers: Endgame</td>\n",
       "      <td>2019</td>\n",
       "      <td>8.4</td>\n",
       "      <td>PG-13</td>\n",
       "      <td>181</td>\n",
       "      <td>Action, Adventure, Drama</td>\n",
       "      <td>Apr 23, 2019</td>\n",
       "      <td>400000000</td>\n",
       "      <td>858373000</td>\n",
       "      <td>2797800564</td>\n",
       "      <td>2397800564</td>\n",
       "      <td>0.857031</td>\n",
       "      <td>412880000.0</td>\n",
       "      <td>2.475010e+09</td>\n",
       "    </tr>\n",
       "    <tr>\n",
       "      <td>1</td>\n",
       "      <td>Avatar</td>\n",
       "      <td>2009</td>\n",
       "      <td>7.8</td>\n",
       "      <td>PG-13</td>\n",
       "      <td>162</td>\n",
       "      <td>Action, Adventure, Fantasy</td>\n",
       "      <td>Dec 17, 2009</td>\n",
       "      <td>237000000</td>\n",
       "      <td>760507625</td>\n",
       "      <td>2788701337</td>\n",
       "      <td>2551701337</td>\n",
       "      <td>0.915014</td>\n",
       "      <td>320945400.0</td>\n",
       "      <td>3.455514e+09</td>\n",
       "    </tr>\n",
       "    <tr>\n",
       "      <td>2</td>\n",
       "      <td>Black Panther</td>\n",
       "      <td>2018</td>\n",
       "      <td>7.3</td>\n",
       "      <td>PG-13</td>\n",
       "      <td>134</td>\n",
       "      <td>Action, Adventure, Sci-Fi</td>\n",
       "      <td>Feb 13, 2018</td>\n",
       "      <td>200000000</td>\n",
       "      <td>700059566</td>\n",
       "      <td>1346103376</td>\n",
       "      <td>1146103376</td>\n",
       "      <td>0.851423</td>\n",
       "      <td>212880000.0</td>\n",
       "      <td>1.219912e+09</td>\n",
       "    </tr>\n",
       "    <tr>\n",
       "      <td>3</td>\n",
       "      <td>Avengers: Infinity War</td>\n",
       "      <td>2018</td>\n",
       "      <td>8.4</td>\n",
       "      <td>PG-13</td>\n",
       "      <td>149</td>\n",
       "      <td>Action, Adventure, Sci-Fi</td>\n",
       "      <td>Apr 25, 2018</td>\n",
       "      <td>300000000</td>\n",
       "      <td>678815482</td>\n",
       "      <td>2048359754</td>\n",
       "      <td>1748359754</td>\n",
       "      <td>0.853541</td>\n",
       "      <td>319320000.0</td>\n",
       "      <td>1.860954e+09</td>\n",
       "    </tr>\n",
       "    <tr>\n",
       "      <td>4</td>\n",
       "      <td>Titanic</td>\n",
       "      <td>1997</td>\n",
       "      <td>7.8</td>\n",
       "      <td>PG-13</td>\n",
       "      <td>194</td>\n",
       "      <td>Drama, Romance</td>\n",
       "      <td>Dec 18, 1997</td>\n",
       "      <td>200000000</td>\n",
       "      <td>659363944</td>\n",
       "      <td>2208208395</td>\n",
       "      <td>2008208395</td>\n",
       "      <td>0.909429</td>\n",
       "      <td>348120000.0</td>\n",
       "      <td>3.495488e+09</td>\n",
       "    </tr>\n",
       "  </tbody>\n",
       "</table>\n",
       "</div>"
      ],
      "text/plain": [
       "                    Movie  Year  IMDb Rating  Runtime  \\\n",
       "0       Avengers: Endgame  2019   8.4  PG-13      181   \n",
       "1                  Avatar  2009   7.8  PG-13      162   \n",
       "2           Black Panther  2018   7.3  PG-13      134   \n",
       "3  Avengers: Infinity War  2018   8.4  PG-13      149   \n",
       "4                 Titanic  1997   7.8  PG-13      194   \n",
       "\n",
       "                        Genre  Release Date  Production Budget  \\\n",
       "0    Action, Adventure, Drama  Apr 23, 2019          400000000   \n",
       "1  Action, Adventure, Fantasy  Dec 17, 2009          237000000   \n",
       "2   Action, Adventure, Sci-Fi  Feb 13, 2018          200000000   \n",
       "3   Action, Adventure, Sci-Fi  Apr 25, 2018          300000000   \n",
       "4              Drama, Romance  Dec 18, 1997          200000000   \n",
       "\n",
       "   Domestic Gross  Worldwide Gross      Profit  Profit_Margin  \\\n",
       "0       858373000       2797800564  2397800564       0.857031   \n",
       "1       760507625       2788701337  2551701337       0.915014   \n",
       "2       700059566       1346103376  1146103376       0.851423   \n",
       "3       678815482       2048359754  1748359754       0.853541   \n",
       "4       659363944       2208208395  2008208395       0.909429   \n",
       "\n",
       "   Adjusted_Budget  Adjusted_Profit  \n",
       "0      412880000.0     2.475010e+09  \n",
       "1      320945400.0     3.455514e+09  \n",
       "2      212880000.0     1.219912e+09  \n",
       "3      319320000.0     1.860954e+09  \n",
       "4      348120000.0     3.495488e+09  "
      ]
     },
     "execution_count": 10,
     "metadata": {},
     "output_type": "execute_result"
    }
   ],
   "source": [
    "imdb_budgets_df['Adjusted_Budget'] = ((((2020-imdb_budgets_df['Year'])*.0322)+1)*\n",
    "                                      imdb_budgets_df['Production Budget'])\n",
    "imdb_budgets_df['Adjusted_Profit'] = (((2020-imdb_budgets_df['Year'])*.0322)+1)*imdb_budgets_df['Profit']\n",
    "imdb_budgets_df.head()"
   ]
  },
  {
   "cell_type": "markdown",
   "metadata": {},
   "source": [
    "For this question we are specifically looking at profitable movies.  We'll create a separate dataframe called `profitable_movies_df` where the `Profit` column is greater than 0. We will then sort by `Adjusted_Profit` to rank movies in terms of profitability."
   ]
  },
  {
   "cell_type": "code",
   "execution_count": 11,
   "metadata": {
    "ExecuteTime": {
     "end_time": "2020-07-21T20:36:19.929476Z",
     "start_time": "2020-07-21T20:36:19.896517Z"
    }
   },
   "outputs": [
    {
     "data": {
      "text/html": [
       "<div>\n",
       "<style scoped>\n",
       "    .dataframe tbody tr th:only-of-type {\n",
       "        vertical-align: middle;\n",
       "    }\n",
       "\n",
       "    .dataframe tbody tr th {\n",
       "        vertical-align: top;\n",
       "    }\n",
       "\n",
       "    .dataframe thead th {\n",
       "        text-align: right;\n",
       "    }\n",
       "</style>\n",
       "<table border=\"1\" class=\"dataframe\">\n",
       "  <thead>\n",
       "    <tr style=\"text-align: right;\">\n",
       "      <th></th>\n",
       "      <th>index</th>\n",
       "      <th>Movie</th>\n",
       "      <th>Year</th>\n",
       "      <th>IMDb</th>\n",
       "      <th>Rating</th>\n",
       "      <th>Runtime</th>\n",
       "      <th>Genre</th>\n",
       "      <th>Release Date</th>\n",
       "      <th>Production Budget</th>\n",
       "      <th>Domestic Gross</th>\n",
       "      <th>Worldwide Gross</th>\n",
       "      <th>Profit</th>\n",
       "      <th>Profit_Margin</th>\n",
       "      <th>Adjusted_Budget</th>\n",
       "      <th>Adjusted_Profit</th>\n",
       "    </tr>\n",
       "  </thead>\n",
       "  <tbody>\n",
       "    <tr>\n",
       "      <td>0</td>\n",
       "      <td>4</td>\n",
       "      <td>Titanic</td>\n",
       "      <td>1997</td>\n",
       "      <td>7.8</td>\n",
       "      <td>PG-13</td>\n",
       "      <td>194</td>\n",
       "      <td>Drama, Romance</td>\n",
       "      <td>Dec 18, 1997</td>\n",
       "      <td>200000000</td>\n",
       "      <td>659363944</td>\n",
       "      <td>2208208395</td>\n",
       "      <td>2008208395</td>\n",
       "      <td>0.909429</td>\n",
       "      <td>348120000.0</td>\n",
       "      <td>3.495488e+09</td>\n",
       "    </tr>\n",
       "    <tr>\n",
       "      <td>1</td>\n",
       "      <td>1</td>\n",
       "      <td>Avatar</td>\n",
       "      <td>2009</td>\n",
       "      <td>7.8</td>\n",
       "      <td>PG-13</td>\n",
       "      <td>162</td>\n",
       "      <td>Action, Adventure, Fantasy</td>\n",
       "      <td>Dec 17, 2009</td>\n",
       "      <td>237000000</td>\n",
       "      <td>760507625</td>\n",
       "      <td>2788701337</td>\n",
       "      <td>2551701337</td>\n",
       "      <td>0.915014</td>\n",
       "      <td>320945400.0</td>\n",
       "      <td>3.455514e+09</td>\n",
       "    </tr>\n",
       "    <tr>\n",
       "      <td>2</td>\n",
       "      <td>0</td>\n",
       "      <td>Avengers: Endgame</td>\n",
       "      <td>2019</td>\n",
       "      <td>8.4</td>\n",
       "      <td>PG-13</td>\n",
       "      <td>181</td>\n",
       "      <td>Action, Adventure, Drama</td>\n",
       "      <td>Apr 23, 2019</td>\n",
       "      <td>400000000</td>\n",
       "      <td>858373000</td>\n",
       "      <td>2797800564</td>\n",
       "      <td>2397800564</td>\n",
       "      <td>0.857031</td>\n",
       "      <td>412880000.0</td>\n",
       "      <td>2.475010e+09</td>\n",
       "    </tr>\n",
       "    <tr>\n",
       "      <td>3</td>\n",
       "      <td>3</td>\n",
       "      <td>Avengers: Infinity War</td>\n",
       "      <td>2018</td>\n",
       "      <td>8.4</td>\n",
       "      <td>PG-13</td>\n",
       "      <td>149</td>\n",
       "      <td>Action, Adventure, Sci-Fi</td>\n",
       "      <td>Apr 25, 2018</td>\n",
       "      <td>300000000</td>\n",
       "      <td>678815482</td>\n",
       "      <td>2048359754</td>\n",
       "      <td>1748359754</td>\n",
       "      <td>0.853541</td>\n",
       "      <td>319320000.0</td>\n",
       "      <td>1.860954e+09</td>\n",
       "    </tr>\n",
       "    <tr>\n",
       "      <td>4</td>\n",
       "      <td>28</td>\n",
       "      <td>Jurassic Park</td>\n",
       "      <td>1993</td>\n",
       "      <td>8.1</td>\n",
       "      <td>PG-13</td>\n",
       "      <td>127</td>\n",
       "      <td>Action, Adventure, Sci-Fi</td>\n",
       "      <td>Jun 11, 1993</td>\n",
       "      <td>63000000</td>\n",
       "      <td>402523348</td>\n",
       "      <td>1045627627</td>\n",
       "      <td>982627627</td>\n",
       "      <td>0.939749</td>\n",
       "      <td>117772200.0</td>\n",
       "      <td>1.836924e+09</td>\n",
       "    </tr>\n",
       "  </tbody>\n",
       "</table>\n",
       "</div>"
      ],
      "text/plain": [
       "   index                   Movie  Year  IMDb Rating  Runtime  \\\n",
       "0      4                 Titanic  1997   7.8  PG-13      194   \n",
       "1      1                  Avatar  2009   7.8  PG-13      162   \n",
       "2      0       Avengers: Endgame  2019   8.4  PG-13      181   \n",
       "3      3  Avengers: Infinity War  2018   8.4  PG-13      149   \n",
       "4     28           Jurassic Park  1993   8.1  PG-13      127   \n",
       "\n",
       "                        Genre  Release Date  Production Budget  \\\n",
       "0              Drama, Romance  Dec 18, 1997          200000000   \n",
       "1  Action, Adventure, Fantasy  Dec 17, 2009          237000000   \n",
       "2    Action, Adventure, Drama  Apr 23, 2019          400000000   \n",
       "3   Action, Adventure, Sci-Fi  Apr 25, 2018          300000000   \n",
       "4   Action, Adventure, Sci-Fi  Jun 11, 1993           63000000   \n",
       "\n",
       "   Domestic Gross  Worldwide Gross      Profit  Profit_Margin  \\\n",
       "0       659363944       2208208395  2008208395       0.909429   \n",
       "1       760507625       2788701337  2551701337       0.915014   \n",
       "2       858373000       2797800564  2397800564       0.857031   \n",
       "3       678815482       2048359754  1748359754       0.853541   \n",
       "4       402523348       1045627627   982627627       0.939749   \n",
       "\n",
       "   Adjusted_Budget  Adjusted_Profit  \n",
       "0      348120000.0     3.495488e+09  \n",
       "1      320945400.0     3.455514e+09  \n",
       "2      412880000.0     2.475010e+09  \n",
       "3      319320000.0     1.860954e+09  \n",
       "4      117772200.0     1.836924e+09  "
      ]
     },
     "execution_count": 11,
     "metadata": {},
     "output_type": "execute_result"
    }
   ],
   "source": [
    "profitable_movies_df = imdb_budgets_df.loc[imdb_budgets_df['Profit'] > 0]\n",
    "profitable_ranked_df = profitable_movies_df.sort_values(by=['Adjusted_Profit'], ascending=False)\n",
    "profitable_ranked_df.reset_index(inplace=True)\n",
    "profitable_ranked_df.head()"
   ]
  },
  {
   "cell_type": "markdown",
   "metadata": {},
   "source": [
    "Now that we've got our profitable movie data, let's take a look at adjusted profit versus adjusted budget for each of the movies in the dataframe. "
   ]
  },
  {
   "cell_type": "code",
   "execution_count": 12,
   "metadata": {
    "ExecuteTime": {
     "end_time": "2020-07-21T20:36:20.888356Z",
     "start_time": "2020-07-21T20:36:19.946039Z"
    }
   },
   "outputs": [
    {
     "data": {
      "image/png": "[encoded data removed]",
      "text/plain": [
       "<Figure size 1008x504 with 1 Axes>"
      ]
     },
     "metadata": {
      "needs_background": "light"
     },
     "output_type": "display_data"
    }
   ],
   "source": [
    "sns.lmplot(x='Adjusted_Budget', y='Adjusted_Profit', data=profitable_ranked_df, height=7, aspect=2)\n",
    "plt.xlabel('Budget Adjusted for Inflation (Millions of Dollars)', fontsize=12)\n",
    "plt.ticklabel_format(axis='x', style='sci', scilimits=(6,6))\n",
    "plt.ylabel('Profit Adjusted for Inflation (Billions of Dollars)', fontsize=12)\n",
    "plt.title('Adjusted Budget vs Adjusted Profit for Profitable Movies', fontsize=14);"
   ]
  },
  {
   "cell_type": "markdown",
   "metadata": {},
   "source": [
    "This scatter plot is helpful in beginning to understand how much money should be budgeted for a movie.  The positive trend line indicates that an increase in the budget will result in an increase in profit.\n",
    "\n",
    "Let's take a look at the most successful movies so that we can get a better idea of what the budget should be."
   ]
  },
  {
   "cell_type": "code",
   "execution_count": 13,
   "metadata": {
    "ExecuteTime": {
     "end_time": "2020-07-21T20:36:21.600879Z",
     "start_time": "2020-07-21T20:36:20.891210Z"
    }
   },
   "outputs": [
    {
     "data": {
      "image/png": "[encoded data removed]",
      "text/plain": [
       "<Figure size 1080x864 with 1 Axes>"
      ]
     },
     "metadata": {
      "needs_background": "light"
     },
     "output_type": "display_data"
    }
   ],
   "source": [
    "plt.figure(figsize=(15,12))\n",
    "sns.barplot(x=profitable_ranked_df.loc[0:25, 'Movie'],y=profitable_ranked_df.loc[0:25, 'Adjusted_Profit'], \n",
    "            color='mediumspringgreen', label='Profit', ci=None)\n",
    "sns.barplot(x=profitable_ranked_df.loc[0:25, 'Movie'],y=profitable_ranked_df.loc[0:25, 'Adjusted_Budget'], \n",
    "            color='black', label='Budget', ci=None)\n",
    "plt.xlabel('Movie', fontsize=12)\n",
    "plt.title(\"Profits and Budgets for the 25 Most Profitable Movies\", fontsize=14)\n",
    "plt.ylabel('Adjusted Profit (Billions of Dollars)', fontsize=12)\n",
    "plt.xticks(rotation=35, horizontalalignment='right', fontsize=12)\n",
    "plt.legend(fontsize=12);"
   ]
  },
  {
   "cell_type": "code",
   "execution_count": 14,
   "metadata": {
    "ExecuteTime": {
     "end_time": "2020-07-21T20:36:21.614565Z",
     "start_time": "2020-07-21T20:36:21.603097Z"
    }
   },
   "outputs": [
    {
     "data": {
      "text/plain": [
       "count    2.841000e+03\n",
       "mean     6.059149e+07\n",
       "std      6.318726e+07\n",
       "min      1.060640e+04\n",
       "25%      1.644900e+07\n",
       "50%      3.867600e+07\n",
       "75%      8.220000e+07\n",
       "max      4.888342e+08\n",
       "Name: Adjusted_Budget, dtype: float64"
      ]
     },
     "execution_count": 14,
     "metadata": {},
     "output_type": "execute_result"
    }
   ],
   "source": [
    "profitable_movies_df['Adjusted_Budget'].describe()"
   ]
  },
  {
   "cell_type": "code",
   "execution_count": 15,
   "metadata": {
    "ExecuteTime": {
     "end_time": "2020-07-21T20:36:21.630350Z",
     "start_time": "2020-07-21T20:36:21.617169Z"
    }
   },
   "outputs": [
    {
     "data": {
      "text/plain": [
       "count    2.500000e+01\n",
       "mean     2.427778e+08\n",
       "std      8.069887e+07\n",
       "min      1.060640e+08\n",
       "25%      1.806350e+08\n",
       "50%      2.257600e+08\n",
       "75%      2.829600e+08\n",
       "max      4.237650e+08\n",
       "Name: Adjusted_Budget, dtype: float64"
      ]
     },
     "execution_count": 15,
     "metadata": {},
     "output_type": "execute_result"
    }
   ],
   "source": [
    "profitable_movies_df.loc[0:24, 'Adjusted_Budget'].describe()"
   ]
  },
  {
   "cell_type": "code",
   "execution_count": 16,
   "metadata": {
    "ExecuteTime": {
     "end_time": "2020-07-21T20:36:21.644778Z",
     "start_time": "2020-07-21T20:36:21.633048Z"
    }
   },
   "outputs": [
    {
     "data": {
      "text/plain": [
       "count    2841.000000\n",
       "mean        0.621164\n",
       "std         0.240697\n",
       "min         0.000265\n",
       "25%         0.465071\n",
       "50%         0.671252\n",
       "75%         0.809792\n",
       "max         0.997599\n",
       "Name: Profit_Margin, dtype: float64"
      ]
     },
     "execution_count": 16,
     "metadata": {},
     "output_type": "execute_result"
    }
   ],
   "source": [
    "profitable_movies_df['Profit_Margin'].describe()"
   ]
  },
  {
   "cell_type": "code",
   "execution_count": 17,
   "metadata": {
    "ExecuteTime": {
     "end_time": "2020-07-21T20:36:21.666463Z",
     "start_time": "2020-07-21T20:36:21.649272Z"
    },
    "scrolled": false
   },
   "outputs": [
    {
     "data": {
      "text/plain": [
       "count    25.000000\n",
       "mean      0.846165\n",
       "std       0.046107\n",
       "min       0.738557\n",
       "25%       0.813675\n",
       "50%       0.849688\n",
       "75%       0.871288\n",
       "max       0.925154\n",
       "Name: Profit_Margin, dtype: float64"
      ]
     },
     "execution_count": 17,
     "metadata": {},
     "output_type": "execute_result"
    }
   ],
   "source": [
    "profitable_movies_df.loc[0:24, 'Profit_Margin'].describe()"
   ]
  },
  {
   "cell_type": "code",
   "execution_count": 18,
   "metadata": {
    "ExecuteTime": {
     "end_time": "2020-07-21T20:36:21.693079Z",
     "start_time": "2020-07-21T20:36:21.672370Z"
    }
   },
   "outputs": [
    {
     "data": {
      "text/plain": [
       "2043"
      ]
     },
     "execution_count": 18,
     "metadata": {},
     "output_type": "execute_result"
    }
   ],
   "source": [
    "len(profitable_ranked_df.loc[profitable_ranked_df['Profit_Margin'] > 0.5])"
   ]
  },
  {
   "cell_type": "markdown",
   "metadata": {},
   "source": [
    "Clearly the most successful 25 movies have both incredible profits and profit margins. Titanic (1997), Avatar, and Avengers: Endgame are the most successful movies in terms of sheer profit. \n",
    "\n",
    "So how do we know what to spend? We need to think about what sort of profit margin we want to see. 2043 out of 2841 total profitable movies have a profit margin over 50%. That's good news as it indicates that we can be more aggressive in choosing a threshold for the profit margin. The top 25 movies have a median profit margin of 84.9% with a median budget of \\\\$225,760,000. When looking at all of our profitable movies, the profit margin drops significantly to 67.1\\% and the budget drops significantly to \\\\$38,676,000. We use the median to describe our data here as the mean will be skewed by outlier data.\n",
    "\n",
    "Let's filter the data with a profit margin of  75% or greater and a budget greater than $38,676,000."
   ]
  },
  {
   "cell_type": "code",
   "execution_count": 19,
   "metadata": {
    "ExecuteTime": {
     "end_time": "2020-07-21T20:36:21.708868Z",
     "start_time": "2020-07-21T20:36:21.696594Z"
    },
    "scrolled": true
   },
   "outputs": [
    {
     "data": {
      "text/plain": [
       "374"
      ]
     },
     "execution_count": 19,
     "metadata": {},
     "output_type": "execute_result"
    }
   ],
   "source": [
    "filtered_df = profitable_ranked_df.loc[(profitable_ranked_df['Profit_Margin'] >= 0.75) & \n",
    "                         (profitable_ranked_df['Adjusted_Budget'] > 38676000)]\n",
    "len(filtered_df)"
   ]
  },
  {
   "cell_type": "markdown",
   "metadata": {},
   "source": [
    "After filtering we still have 374 movies left upon which to draw conclusions."
   ]
  },
  {
   "cell_type": "code",
   "execution_count": 20,
   "metadata": {
    "ExecuteTime": {
     "end_time": "2020-07-21T20:36:22.455490Z",
     "start_time": "2020-07-21T20:36:21.712859Z"
    }
   },
   "outputs": [
    {
     "data": {
      "image/png": "[encoded data removed]",
      "text/plain": [
       "<Figure size 1008x504 with 1 Axes>"
      ]
     },
     "metadata": {
      "needs_background": "light"
     },
     "output_type": "display_data"
    }
   ],
   "source": [
    "sns.lmplot(x='Adjusted_Budget', y='Profit_Margin', data=filtered_df, height=7, aspect=2)\n",
    "plt.xlabel('Adjusted Budget (Millions of Dollars)', fontsize=12)\n",
    "plt.ticklabel_format(axis='x', style='sci', scilimits=(6,6))\n",
    "plt.ylabel('Profit Margin', fontsize=12)\n",
    "plt.title('Adjusted Budget vs Profit Margin', fontsize=14);"
   ]
  },
  {
   "cell_type": "code",
   "execution_count": 21,
   "metadata": {
    "ExecuteTime": {
     "end_time": "2020-07-21T20:36:22.528982Z",
     "start_time": "2020-07-21T20:36:22.460150Z"
    }
   },
   "outputs": [
    {
     "data": {
      "text/html": [
       "<div>\n",
       "<style scoped>\n",
       "    .dataframe tbody tr th:only-of-type {\n",
       "        vertical-align: middle;\n",
       "    }\n",
       "\n",
       "    .dataframe tbody tr th {\n",
       "        vertical-align: top;\n",
       "    }\n",
       "\n",
       "    .dataframe thead th {\n",
       "        text-align: right;\n",
       "    }\n",
       "</style>\n",
       "<table border=\"1\" class=\"dataframe\">\n",
       "  <thead>\n",
       "    <tr style=\"text-align: right;\">\n",
       "      <th></th>\n",
       "      <th>index</th>\n",
       "      <th>Year</th>\n",
       "      <th>IMDb</th>\n",
       "      <th>Runtime</th>\n",
       "      <th>Production Budget</th>\n",
       "      <th>Domestic Gross</th>\n",
       "      <th>Worldwide Gross</th>\n",
       "      <th>Profit</th>\n",
       "      <th>Profit_Margin</th>\n",
       "      <th>Adjusted_Budget</th>\n",
       "      <th>Adjusted_Profit</th>\n",
       "    </tr>\n",
       "  </thead>\n",
       "  <tbody>\n",
       "    <tr>\n",
       "      <td>count</td>\n",
       "      <td>374.000000</td>\n",
       "      <td>374.000000</td>\n",
       "      <td>374.000000</td>\n",
       "      <td>374.000000</td>\n",
       "      <td>3.740000e+02</td>\n",
       "      <td>3.740000e+02</td>\n",
       "      <td>3.740000e+02</td>\n",
       "      <td>3.740000e+02</td>\n",
       "      <td>374.000000</td>\n",
       "      <td>3.740000e+02</td>\n",
       "      <td>3.740000e+02</td>\n",
       "    </tr>\n",
       "    <tr>\n",
       "      <td>mean</td>\n",
       "      <td>391.529412</td>\n",
       "      <td>2004.965241</td>\n",
       "      <td>7.012032</td>\n",
       "      <td>118.601604</td>\n",
       "      <td>7.781418e+07</td>\n",
       "      <td>1.933788e+08</td>\n",
       "      <td>4.849949e+08</td>\n",
       "      <td>4.071807e+08</td>\n",
       "      <td>0.828523</td>\n",
       "      <td>1.058585e+08</td>\n",
       "      <td>5.628791e+08</td>\n",
       "    </tr>\n",
       "    <tr>\n",
       "      <td>std</td>\n",
       "      <td>378.199265</td>\n",
       "      <td>10.811640</td>\n",
       "      <td>0.902894</td>\n",
       "      <td>24.020748</td>\n",
       "      <td>5.757015e+07</td>\n",
       "      <td>1.270890e+08</td>\n",
       "      <td>3.776903e+08</td>\n",
       "      <td>3.299941e+08</td>\n",
       "      <td>0.052470</td>\n",
       "      <td>6.627224e+07</td>\n",
       "      <td>4.131143e+08</td>\n",
       "    </tr>\n",
       "    <tr>\n",
       "      <td>min</td>\n",
       "      <td>0.000000</td>\n",
       "      <td>1956.000000</td>\n",
       "      <td>3.300000</td>\n",
       "      <td>79.000000</td>\n",
       "      <td>1.350000e+07</td>\n",
       "      <td>1.901988e+07</td>\n",
       "      <td>6.999538e+07</td>\n",
       "      <td>5.499538e+07</td>\n",
       "      <td>0.750282</td>\n",
       "      <td>3.868500e+07</td>\n",
       "      <td>1.232098e+08</td>\n",
       "    </tr>\n",
       "    <tr>\n",
       "      <td>25%</td>\n",
       "      <td>111.250000</td>\n",
       "      <td>1998.000000</td>\n",
       "      <td>6.400000</td>\n",
       "      <td>100.000000</td>\n",
       "      <td>3.500000e+07</td>\n",
       "      <td>1.069483e+08</td>\n",
       "      <td>2.172884e+08</td>\n",
       "      <td>1.763544e+08</td>\n",
       "      <td>0.783548</td>\n",
       "      <td>5.347110e+07</td>\n",
       "      <td>2.748616e+08</td>\n",
       "    </tr>\n",
       "    <tr>\n",
       "      <td>50%</td>\n",
       "      <td>279.500000</td>\n",
       "      <td>2007.000000</td>\n",
       "      <td>7.000000</td>\n",
       "      <td>116.000000</td>\n",
       "      <td>5.500000e+07</td>\n",
       "      <td>1.628020e+08</td>\n",
       "      <td>3.509376e+08</td>\n",
       "      <td>2.990630e+08</td>\n",
       "      <td>0.819296</td>\n",
       "      <td>8.224930e+07</td>\n",
       "      <td>4.492299e+08</td>\n",
       "    </tr>\n",
       "    <tr>\n",
       "      <td>75%</td>\n",
       "      <td>550.500000</td>\n",
       "      <td>2014.000000</td>\n",
       "      <td>7.700000</td>\n",
       "      <td>131.750000</td>\n",
       "      <td>1.000000e+08</td>\n",
       "      <td>2.420814e+08</td>\n",
       "      <td>6.360843e+08</td>\n",
       "      <td>5.139793e+08</td>\n",
       "      <td>0.869551</td>\n",
       "      <td>1.396546e+08</td>\n",
       "      <td>7.195911e+08</td>\n",
       "    </tr>\n",
       "    <tr>\n",
       "      <td>max</td>\n",
       "      <td>2424.000000</td>\n",
       "      <td>2020.000000</td>\n",
       "      <td>9.000000</td>\n",
       "      <td>228.000000</td>\n",
       "      <td>4.000000e+08</td>\n",
       "      <td>8.583730e+08</td>\n",
       "      <td>2.797801e+09</td>\n",
       "      <td>2.551701e+09</td>\n",
       "      <td>0.957496</td>\n",
       "      <td>4.128800e+08</td>\n",
       "      <td>3.495488e+09</td>\n",
       "    </tr>\n",
       "  </tbody>\n",
       "</table>\n",
       "</div>"
      ],
      "text/plain": [
       "             index         Year        IMDb     Runtime  Production Budget  \\\n",
       "count   374.000000   374.000000  374.000000  374.000000       3.740000e+02   \n",
       "mean    391.529412  2004.965241    7.012032  118.601604       7.781418e+07   \n",
       "std     378.199265    10.811640    0.902894   24.020748       5.757015e+07   \n",
       "min       0.000000  1956.000000    3.300000   79.000000       1.350000e+07   \n",
       "25%     111.250000  1998.000000    6.400000  100.000000       3.500000e+07   \n",
       "50%     279.500000  2007.000000    7.000000  116.000000       5.500000e+07   \n",
       "75%     550.500000  2014.000000    7.700000  131.750000       1.000000e+08   \n",
       "max    2424.000000  2020.000000    9.000000  228.000000       4.000000e+08   \n",
       "\n",
       "       Domestic Gross  Worldwide Gross        Profit  Profit_Margin  \\\n",
       "count    3.740000e+02     3.740000e+02  3.740000e+02     374.000000   \n",
       "mean     1.933788e+08     4.849949e+08  4.071807e+08       0.828523   \n",
       "std      1.270890e+08     3.776903e+08  3.299941e+08       0.052470   \n",
       "min      1.901988e+07     6.999538e+07  5.499538e+07       0.750282   \n",
       "25%      1.069483e+08     2.172884e+08  1.763544e+08       0.783548   \n",
       "50%      1.628020e+08     3.509376e+08  2.990630e+08       0.819296   \n",
       "75%      2.420814e+08     6.360843e+08  5.139793e+08       0.869551   \n",
       "max      8.583730e+08     2.797801e+09  2.551701e+09       0.957496   \n",
       "\n",
       "       Adjusted_Budget  Adjusted_Profit  \n",
       "count     3.740000e+02     3.740000e+02  \n",
       "mean      1.058585e+08     5.628791e+08  \n",
       "std       6.627224e+07     4.131143e+08  \n",
       "min       3.868500e+07     1.232098e+08  \n",
       "25%       5.347110e+07     2.748616e+08  \n",
       "50%       8.224930e+07     4.492299e+08  \n",
       "75%       1.396546e+08     7.195911e+08  \n",
       "max       4.128800e+08     3.495488e+09  "
      ]
     },
     "execution_count": 21,
     "metadata": {},
     "output_type": "execute_result"
    }
   ],
   "source": [
    "filtered_df.describe()"
   ]
  },
  {
   "cell_type": "markdown",
   "metadata": {},
   "source": [
    "We examine the data in a scatter plot again to see if we can determine trends. Our data is much more spread out when comparing profit margin and budget.  The trend line in this plot is negative which cautions against spending too much money as we may potentially hurt our profit margin.  Looking at the filtered data, we have a median budget of $82,249,300 and a median profit margin of 81.9%.  \n",
    "\n",
    "**Qustion 1 Conclusion**: We recommend that Microsoft should budget approximately $82,250,000 to make a movie. This should correlate with a profit margin above 80%. "
   ]
  },
  {
   "cell_type": "markdown",
   "metadata": {},
   "source": [
    "# Question 5: How much should you spend on a movie to win an Oscar?\n",
    "\n",
    "In order to answer this question we'll first need to join the `imdb_budgets_df` dataframe and the `awards_df` dataframe.  As there may be movies with duplicate titles, we set the indices of both dataframes to the movie name and year so that matching data is correctly joined."
   ]
  },
  {
   "cell_type": "code",
   "execution_count": 22,
   "metadata": {
    "ExecuteTime": {
     "end_time": "2020-07-21T20:36:22.560914Z",
     "start_time": "2020-07-21T20:36:22.533215Z"
    }
   },
   "outputs": [],
   "source": [
    "imdb_budgets_df.set_index(['Movie','Year'], inplace=True)\n",
    "awards_df.set_index(['film_name', 'film_year'], inplace=True)"
   ]
  },
  {
   "cell_type": "code",
   "execution_count": 23,
   "metadata": {
    "ExecuteTime": {
     "end_time": "2020-07-21T20:36:22.617418Z",
     "start_time": "2020-07-21T20:36:22.571400Z"
    },
    "scrolled": true
   },
   "outputs": [
    {
     "data": {
      "text/html": [
       "<div>\n",
       "<style scoped>\n",
       "    .dataframe tbody tr th:only-of-type {\n",
       "        vertical-align: middle;\n",
       "    }\n",
       "\n",
       "    .dataframe tbody tr th {\n",
       "        vertical-align: top;\n",
       "    }\n",
       "\n",
       "    .dataframe thead th {\n",
       "        text-align: right;\n",
       "    }\n",
       "</style>\n",
       "<table border=\"1\" class=\"dataframe\">\n",
       "  <thead>\n",
       "    <tr style=\"text-align: right;\">\n",
       "      <th></th>\n",
       "      <th></th>\n",
       "      <th>IMDb</th>\n",
       "      <th>Rating</th>\n",
       "      <th>Runtime</th>\n",
       "      <th>Genre</th>\n",
       "      <th>Release Date</th>\n",
       "      <th>Production Budget</th>\n",
       "      <th>Domestic Gross</th>\n",
       "      <th>Worldwide Gross</th>\n",
       "      <th>Profit</th>\n",
       "      <th>Profit_Margin</th>\n",
       "      <th>Adjusted_Budget</th>\n",
       "      <th>Adjusted_Profit</th>\n",
       "      <th>awards_won</th>\n",
       "      <th>awards_nominated</th>\n",
       "      <th>win_rate</th>\n",
       "    </tr>\n",
       "    <tr>\n",
       "      <th>Movie</th>\n",
       "      <th>Year</th>\n",
       "      <th></th>\n",
       "      <th></th>\n",
       "      <th></th>\n",
       "      <th></th>\n",
       "      <th></th>\n",
       "      <th></th>\n",
       "      <th></th>\n",
       "      <th></th>\n",
       "      <th></th>\n",
       "      <th></th>\n",
       "      <th></th>\n",
       "      <th></th>\n",
       "      <th></th>\n",
       "      <th></th>\n",
       "      <th></th>\n",
       "    </tr>\n",
       "  </thead>\n",
       "  <tbody>\n",
       "    <tr>\n",
       "      <td>Avatar</td>\n",
       "      <td>2009</td>\n",
       "      <td>7.8</td>\n",
       "      <td>PG-13</td>\n",
       "      <td>162</td>\n",
       "      <td>Action, Adventure, Fantasy</td>\n",
       "      <td>Dec 17, 2009</td>\n",
       "      <td>237000000</td>\n",
       "      <td>760507625</td>\n",
       "      <td>2788701337</td>\n",
       "      <td>2551701337</td>\n",
       "      <td>0.915014</td>\n",
       "      <td>320945400.0</td>\n",
       "      <td>3.455514e+09</td>\n",
       "      <td>3</td>\n",
       "      <td>9</td>\n",
       "      <td>0.333</td>\n",
       "    </tr>\n",
       "    <tr>\n",
       "      <td>Black Panther</td>\n",
       "      <td>2018</td>\n",
       "      <td>7.3</td>\n",
       "      <td>PG-13</td>\n",
       "      <td>134</td>\n",
       "      <td>Action, Adventure, Sci-Fi</td>\n",
       "      <td>Feb 13, 2018</td>\n",
       "      <td>200000000</td>\n",
       "      <td>700059566</td>\n",
       "      <td>1346103376</td>\n",
       "      <td>1146103376</td>\n",
       "      <td>0.851423</td>\n",
       "      <td>212880000.0</td>\n",
       "      <td>1.219912e+09</td>\n",
       "      <td>3</td>\n",
       "      <td>7</td>\n",
       "      <td>0.429</td>\n",
       "    </tr>\n",
       "    <tr>\n",
       "      <td>Titanic</td>\n",
       "      <td>1997</td>\n",
       "      <td>7.8</td>\n",
       "      <td>PG-13</td>\n",
       "      <td>194</td>\n",
       "      <td>Drama, Romance</td>\n",
       "      <td>Dec 18, 1997</td>\n",
       "      <td>200000000</td>\n",
       "      <td>659363944</td>\n",
       "      <td>2208208395</td>\n",
       "      <td>2008208395</td>\n",
       "      <td>0.909429</td>\n",
       "      <td>348120000.0</td>\n",
       "      <td>3.495488e+09</td>\n",
       "      <td>11</td>\n",
       "      <td>14</td>\n",
       "      <td>0.786</td>\n",
       "    </tr>\n",
       "    <tr>\n",
       "      <td>The Dark Knight</td>\n",
       "      <td>2008</td>\n",
       "      <td>9.0</td>\n",
       "      <td>PG-13</td>\n",
       "      <td>152</td>\n",
       "      <td>Action, Crime, Drama</td>\n",
       "      <td>Jul 11, 2008</td>\n",
       "      <td>185000000</td>\n",
       "      <td>533720947</td>\n",
       "      <td>1000742751</td>\n",
       "      <td>815742751</td>\n",
       "      <td>0.815137</td>\n",
       "      <td>256484000.0</td>\n",
       "      <td>1.130946e+09</td>\n",
       "      <td>2</td>\n",
       "      <td>8</td>\n",
       "      <td>0.250</td>\n",
       "    </tr>\n",
       "    <tr>\n",
       "      <td>Toy Story 4</td>\n",
       "      <td>2019</td>\n",
       "      <td>7.8</td>\n",
       "      <td>G</td>\n",
       "      <td>100</td>\n",
       "      <td>Animation, Adventure, Comedy</td>\n",
       "      <td>Jun 20, 2019</td>\n",
       "      <td>200000000</td>\n",
       "      <td>434038008</td>\n",
       "      <td>1073394813</td>\n",
       "      <td>873394813</td>\n",
       "      <td>0.813675</td>\n",
       "      <td>206440000.0</td>\n",
       "      <td>9.015181e+08</td>\n",
       "      <td>1</td>\n",
       "      <td>2</td>\n",
       "      <td>0.500</td>\n",
       "    </tr>\n",
       "  </tbody>\n",
       "</table>\n",
       "</div>"
      ],
      "text/plain": [
       "                      IMDb Rating  Runtime                         Genre  \\\n",
       "Movie           Year                                                       \n",
       "Avatar          2009   7.8  PG-13      162    Action, Adventure, Fantasy   \n",
       "Black Panther   2018   7.3  PG-13      134     Action, Adventure, Sci-Fi   \n",
       "Titanic         1997   7.8  PG-13      194                Drama, Romance   \n",
       "The Dark Knight 2008   9.0  PG-13      152          Action, Crime, Drama   \n",
       "Toy Story 4     2019   7.8      G      100  Animation, Adventure, Comedy   \n",
       "\n",
       "                      Release Date  Production Budget  Domestic Gross  \\\n",
       "Movie           Year                                                    \n",
       "Avatar          2009  Dec 17, 2009          237000000       760507625   \n",
       "Black Panther   2018  Feb 13, 2018          200000000       700059566   \n",
       "Titanic         1997  Dec 18, 1997          200000000       659363944   \n",
       "The Dark Knight 2008  Jul 11, 2008          185000000       533720947   \n",
       "Toy Story 4     2019  Jun 20, 2019          200000000       434038008   \n",
       "\n",
       "                      Worldwide Gross      Profit  Profit_Margin  \\\n",
       "Movie           Year                                               \n",
       "Avatar          2009       2788701337  2551701337       0.915014   \n",
       "Black Panther   2018       1346103376  1146103376       0.851423   \n",
       "Titanic         1997       2208208395  2008208395       0.909429   \n",
       "The Dark Knight 2008       1000742751   815742751       0.815137   \n",
       "Toy Story 4     2019       1073394813   873394813       0.813675   \n",
       "\n",
       "                      Adjusted_Budget  Adjusted_Profit  awards_won  \\\n",
       "Movie           Year                                                 \n",
       "Avatar          2009      320945400.0     3.455514e+09           3   \n",
       "Black Panther   2018      212880000.0     1.219912e+09           3   \n",
       "Titanic         1997      348120000.0     3.495488e+09          11   \n",
       "The Dark Knight 2008      256484000.0     1.130946e+09           2   \n",
       "Toy Story 4     2019      206440000.0     9.015181e+08           1   \n",
       "\n",
       "                      awards_nominated  win_rate  \n",
       "Movie           Year                              \n",
       "Avatar          2009                 9     0.333  \n",
       "Black Panther   2018                 7     0.429  \n",
       "Titanic         1997                14     0.786  \n",
       "The Dark Knight 2008                 8     0.250  \n",
       "Toy Story 4     2019                 2     0.500  "
      ]
     },
     "execution_count": 23,
     "metadata": {},
     "output_type": "execute_result"
    }
   ],
   "source": [
    "budgets_and_awards = imdb_budgets_df.join(awards_df, how='inner', on=['Movie', 'Year'])\n",
    "budgets_and_awards.head()"
   ]
  },
  {
   "cell_type": "markdown",
   "metadata": {},
   "source": [
    "We've successfully joined the two dataframes.  Let's filter the dataframe to include movies where the profit is greater than 0."
   ]
  },
  {
   "cell_type": "code",
   "execution_count": 24,
   "metadata": {
    "ExecuteTime": {
     "end_time": "2020-07-21T20:36:22.639456Z",
     "start_time": "2020-07-21T20:36:22.626875Z"
    }
   },
   "outputs": [],
   "source": [
    "nominated_movies_df = budgets_and_awards.loc[budgets_and_awards['Profit'] > 0]"
   ]
  },
  {
   "cell_type": "code",
   "execution_count": 25,
   "metadata": {
    "ExecuteTime": {
     "end_time": "2020-07-21T20:36:22.984155Z",
     "start_time": "2020-07-21T20:36:22.643847Z"
    },
    "scrolled": true
   },
   "outputs": [
    {
     "data": {
      "image/png": "[encoded data removed]",
      "text/plain": [
       "<Figure size 1152x432 with 1 Axes>"
      ]
     },
     "metadata": {
      "needs_background": "light"
     },
     "output_type": "display_data"
    }
   ],
   "source": [
    "plt.figure(figsize=(16,6))\n",
    "sns.boxplot(x='Adjusted_Budget', data=nominated_movies_df, showfliers=False, color='powderblue')\n",
    "sns.stripplot(x='Adjusted_Budget', data=nominated_movies_df)\n",
    "plt.ticklabel_format(axis='x', style='sci', scilimits=(6,6))\n",
    "plt.xticks(fontsize=12)\n",
    "plt.xlabel('Movie Budgets Adjusted for Inflation (Millions of Dollars)', fontsize=12);\n",
    "plt.title('Distribution of Movie Budgets for Profitable Oscar Nominated Movies', fontsize=14);\n"
   ]
  },
  {
   "cell_type": "code",
   "execution_count": 26,
   "metadata": {
    "ExecuteTime": {
     "end_time": "2020-07-21T20:36:23.002383Z",
     "start_time": "2020-07-21T20:36:22.987525Z"
    },
    "scrolled": true
   },
   "outputs": [
    {
     "data": {
      "text/plain": [
       "count    3.310000e+02\n",
       "mean     6.647934e+07\n",
       "std      7.249719e+07\n",
       "min      2.127900e+05\n",
       "25%      1.542566e+07\n",
       "50%      3.781650e+07\n",
       "75%      9.359800e+07\n",
       "max      3.483000e+08\n",
       "Name: Adjusted_Budget, dtype: float64"
      ]
     },
     "execution_count": 26,
     "metadata": {},
     "output_type": "execute_result"
    }
   ],
   "source": [
    "nominated_movies_df['Adjusted_Budget'].describe()"
   ]
  },
  {
   "cell_type": "markdown",
   "metadata": {},
   "source": [
    "By looking at the distribution of movie budgets we see that the majority of data is clustered in an area below $100 million dollars.\n",
    "\n",
    "We need to take this a step further as the above distribution includes movies that were nominated and won awards as well as movies that did not win awards. In order to properly answer our question we must win an Oscar.\n",
    "\n",
    "We could filter by win rate and exclude those movies that did not win anything, however our data would still include movies that were nominated in a single category and won. This would skew the win rate as there would be several movies with a win rate of 100%.  Let's take a look at the mean and median win rate to establish a threshold for award nominations."
   ]
  },
  {
   "cell_type": "code",
   "execution_count": 27,
   "metadata": {
    "ExecuteTime": {
     "end_time": "2020-07-21T20:36:23.033748Z",
     "start_time": "2020-07-21T20:36:23.005491Z"
    }
   },
   "outputs": [
    {
     "data": {
      "text/plain": [
       "count    330.000000\n",
       "mean       0.448203\n",
       "std        0.279846\n",
       "min        0.000000\n",
       "25%        0.250000\n",
       "50%        0.392500\n",
       "75%        0.600000\n",
       "max        1.000000\n",
       "Name: win_rate, dtype: float64"
      ]
     },
     "execution_count": 27,
     "metadata": {},
     "output_type": "execute_result"
    }
   ],
   "source": [
    "nominated_movies_df['win_rate'].describe()\n",
    "#Let's be conservative for win rate and use the median win rate\n",
    "#That means we would need to be nominated for at least 3 awards in order to win 1 award."
   ]
  },
  {
   "cell_type": "markdown",
   "metadata": {},
   "source": [
    "The mean win rate is 44.8% but as we mentioned is skewed by those movies with only 1 nomination. The median win rate is 39.2% which should be less skewed by the data and is a more conservative number. Using the median win rate of 39.2%, our movie would need to be nominated for at least 3 awards in order to get at least one win. 3 nominations will be the cutoff."
   ]
  },
  {
   "cell_type": "code",
   "execution_count": 28,
   "metadata": {
    "ExecuteTime": {
     "end_time": "2020-07-21T20:36:23.387962Z",
     "start_time": "2020-07-21T20:36:23.038695Z"
    }
   },
   "outputs": [
    {
     "name": "stdout",
     "output_type": "stream",
     "text": [
      "263\n"
     ]
    },
    {
     "data": {
      "image/png": "[encoded data removed]",
      "text/plain": [
       "<Figure size 1152x432 with 1 Axes>"
      ]
     },
     "metadata": {
      "needs_background": "light"
     },
     "output_type": "display_data"
    }
   ],
   "source": [
    "nominated_over_three = nominated_movies_df.loc[nominated_movies_df['awards_nominated'] >= 3]\n",
    "print(len(nominated_over_three))\n",
    "plt.figure(figsize=(16,6))\n",
    "sns.boxplot(x=nominated_over_three['Adjusted_Budget'], showfliers=False, color='powderblue')\n",
    "sns.stripplot(x='Adjusted_Budget', data=nominated_over_three)\n",
    "plt.ticklabel_format(axis='x', style='sci', scilimits=(6,6))\n",
    "plt.xticks(fontsize=12)\n",
    "plt.xlabel('Movie Budgets Adjusted for Inflation (Millions of Dollars)', fontsize=12)\n",
    "plt.title('Distribution of Movie Budgets for Movies With At Least 3 Nominations', fontsize=14);"
   ]
  },
  {
   "cell_type": "code",
   "execution_count": 29,
   "metadata": {
    "ExecuteTime": {
     "end_time": "2020-07-21T20:36:23.410190Z",
     "start_time": "2020-07-21T20:36:23.393589Z"
    },
    "scrolled": true
   },
   "outputs": [
    {
     "data": {
      "text/plain": [
       "count    2.630000e+02\n",
       "mean     6.240465e+07\n",
       "std      6.912684e+07\n",
       "min      1.224990e+06\n",
       "25%      1.548290e+07\n",
       "50%      3.546500e+07\n",
       "75%      7.813200e+07\n",
       "max      3.481200e+08\n",
       "Name: Adjusted_Budget, dtype: float64"
      ]
     },
     "execution_count": 29,
     "metadata": {},
     "output_type": "execute_result"
    }
   ],
   "source": [
    "nominated_over_three['Adjusted_Budget'].describe()"
   ]
  },
  {
   "cell_type": "markdown",
   "metadata": {},
   "source": [
    "It's important to note that the box plot of the `nominated_over_three` dataframe has shrunk! This means that our filter has decreased our interquartile range for the movie budget.  Since this range is smaller there should be less variability in the middle of the data set. Since we have adjusted budgets that are extreme outliers, it is best to use the median as the primary measure of central tendency. The median adjusted budget for this data is \\\\$35,465,000. \n",
    " \n",
    "**Question 5 Conclusion**: Microsoft should spend at least $35,465,000 in order to make an Oscar-winning movie.\n",
    "\n",
    "*It is also worth noting that the 75th percentile of the adjusted budget for movies with at least three nominations is $78,132,000. This is close to our recommendation of a \\\\$82 million budget for a profitable movie with a profit margin of approximately 80%.*"
   ]
  },
  {
   "cell_type": "markdown",
   "metadata": {},
   "source": [
    "# Question 8: Which studio should you choose based off of dollars per theater and win rate?\n",
    "\n",
    "We need to add a column to the `theaters_df` dataframe to calculate the money grossed per theater for a given movie.  Then we can group by studio."
   ]
  },
  {
   "cell_type": "code",
   "execution_count": 30,
   "metadata": {
    "ExecuteTime": {
     "end_time": "2020-07-21T20:36:23.438204Z",
     "start_time": "2020-07-21T20:36:23.413894Z"
    }
   },
   "outputs": [
    {
     "data": {
      "text/html": [
       "<div>\n",
       "<style scoped>\n",
       "    .dataframe tbody tr th:only-of-type {\n",
       "        vertical-align: middle;\n",
       "    }\n",
       "\n",
       "    .dataframe tbody tr th {\n",
       "        vertical-align: top;\n",
       "    }\n",
       "\n",
       "    .dataframe thead th {\n",
       "        text-align: right;\n",
       "    }\n",
       "</style>\n",
       "<table border=\"1\" class=\"dataframe\">\n",
       "  <thead>\n",
       "    <tr style=\"text-align: right;\">\n",
       "      <th></th>\n",
       "      <th>title</th>\n",
       "      <th>max_theaters</th>\n",
       "      <th>year</th>\n",
       "      <th>total_dom_gross($)</th>\n",
       "      <th>studio</th>\n",
       "      <th>dollars_per_theater</th>\n",
       "    </tr>\n",
       "  </thead>\n",
       "  <tbody>\n",
       "    <tr>\n",
       "      <td>0</td>\n",
       "      <td>The Lion King</td>\n",
       "      <td>4802</td>\n",
       "      <td>2019</td>\n",
       "      <td>543638043</td>\n",
       "      <td>Disney</td>\n",
       "      <td>113210.754477</td>\n",
       "    </tr>\n",
       "    <tr>\n",
       "      <td>1</td>\n",
       "      <td>Avengers: Endgame</td>\n",
       "      <td>4662</td>\n",
       "      <td>2019</td>\n",
       "      <td>858373000</td>\n",
       "      <td>Disney</td>\n",
       "      <td>184121.192621</td>\n",
       "    </tr>\n",
       "    <tr>\n",
       "      <td>2</td>\n",
       "      <td>Spider-Man: Far from Home</td>\n",
       "      <td>4634</td>\n",
       "      <td>2019</td>\n",
       "      <td>390532085</td>\n",
       "      <td>Sony</td>\n",
       "      <td>84275.374407</td>\n",
       "    </tr>\n",
       "    <tr>\n",
       "      <td>3</td>\n",
       "      <td>Toy Story 4</td>\n",
       "      <td>4575</td>\n",
       "      <td>2019</td>\n",
       "      <td>434038008</td>\n",
       "      <td>Disney</td>\n",
       "      <td>94871.695738</td>\n",
       "    </tr>\n",
       "    <tr>\n",
       "      <td>4</td>\n",
       "      <td>It Chapter Two</td>\n",
       "      <td>4570</td>\n",
       "      <td>2019</td>\n",
       "      <td>211593228</td>\n",
       "      <td>Warner Bros.</td>\n",
       "      <td>46300.487527</td>\n",
       "    </tr>\n",
       "  </tbody>\n",
       "</table>\n",
       "</div>"
      ],
      "text/plain": [
       "                       title  max_theaters  year  total_dom_gross($)  \\\n",
       "0              The Lion King          4802  2019           543638043   \n",
       "1          Avengers: Endgame          4662  2019           858373000   \n",
       "2  Spider-Man: Far from Home          4634  2019           390532085   \n",
       "3                Toy Story 4          4575  2019           434038008   \n",
       "4             It Chapter Two          4570  2019           211593228   \n",
       "\n",
       "         studio  dollars_per_theater  \n",
       "0        Disney        113210.754477  \n",
       "1        Disney        184121.192621  \n",
       "2          Sony         84275.374407  \n",
       "3        Disney         94871.695738  \n",
       "4  Warner Bros.         46300.487527  "
      ]
     },
     "execution_count": 30,
     "metadata": {},
     "output_type": "execute_result"
    }
   ],
   "source": [
    "theaters_df['dollars_per_theater'] = theaters_df['total_dom_gross($)'] / theaters_df['max_theaters']\n",
    "theaters_df.head()"
   ]
  },
  {
   "cell_type": "code",
   "execution_count": 31,
   "metadata": {
    "ExecuteTime": {
     "end_time": "2020-07-21T20:36:23.470898Z",
     "start_time": "2020-07-21T20:36:23.445502Z"
    }
   },
   "outputs": [
    {
     "data": {
      "text/html": [
       "<div>\n",
       "<style scoped>\n",
       "    .dataframe tbody tr th:only-of-type {\n",
       "        vertical-align: middle;\n",
       "    }\n",
       "\n",
       "    .dataframe tbody tr th {\n",
       "        vertical-align: top;\n",
       "    }\n",
       "\n",
       "    .dataframe thead th {\n",
       "        text-align: right;\n",
       "    }\n",
       "</style>\n",
       "<table border=\"1\" class=\"dataframe\">\n",
       "  <thead>\n",
       "    <tr style=\"text-align: right;\">\n",
       "      <th></th>\n",
       "      <th>max_theaters</th>\n",
       "      <th>year</th>\n",
       "      <th>total_dom_gross($)</th>\n",
       "      <th>dollars_per_theater</th>\n",
       "    </tr>\n",
       "    <tr>\n",
       "      <th>studio</th>\n",
       "      <th></th>\n",
       "      <th></th>\n",
       "      <th></th>\n",
       "      <th></th>\n",
       "    </tr>\n",
       "  </thead>\n",
       "  <tbody>\n",
       "    <tr>\n",
       "      <td>Disney</td>\n",
       "      <td>3682.319728</td>\n",
       "      <td>2010.591837</td>\n",
       "      <td>2.026179e+08</td>\n",
       "      <td>51856.141904</td>\n",
       "    </tr>\n",
       "    <tr>\n",
       "      <td>DreamWorks Distribution</td>\n",
       "      <td>3408.263158</td>\n",
       "      <td>2002.947368</td>\n",
       "      <td>1.181983e+08</td>\n",
       "      <td>33102.055326</td>\n",
       "    </tr>\n",
       "    <tr>\n",
       "      <td>Lionsgate</td>\n",
       "      <td>3356.244898</td>\n",
       "      <td>2014.469388</td>\n",
       "      <td>9.526829e+07</td>\n",
       "      <td>26485.343053</td>\n",
       "    </tr>\n",
       "    <tr>\n",
       "      <td>Metro-Goldwyn-Mayer (MGM)</td>\n",
       "      <td>3259.142857</td>\n",
       "      <td>2004.000000</td>\n",
       "      <td>7.843758e+07</td>\n",
       "      <td>23829.208308</td>\n",
       "    </tr>\n",
       "    <tr>\n",
       "      <td>New Line Cinema</td>\n",
       "      <td>3410.571429</td>\n",
       "      <td>2001.857143</td>\n",
       "      <td>2.497181e+08</td>\n",
       "      <td>72518.242699</td>\n",
       "    </tr>\n",
       "    <tr>\n",
       "      <td>Paramount Pictures</td>\n",
       "      <td>3466.705357</td>\n",
       "      <td>2010.714286</td>\n",
       "      <td>1.086149e+08</td>\n",
       "      <td>30508.472763</td>\n",
       "    </tr>\n",
       "    <tr>\n",
       "      <td>Sony</td>\n",
       "      <td>3478.355556</td>\n",
       "      <td>2010.562963</td>\n",
       "      <td>1.166779e+08</td>\n",
       "      <td>32626.668858</td>\n",
       "    </tr>\n",
       "    <tr>\n",
       "      <td>TriStar Pictures</td>\n",
       "      <td>3146.000000</td>\n",
       "      <td>2014.000000</td>\n",
       "      <td>8.070322e+07</td>\n",
       "      <td>25546.753029</td>\n",
       "    </tr>\n",
       "    <tr>\n",
       "      <td>Twentieth Century Fox</td>\n",
       "      <td>3493.975758</td>\n",
       "      <td>2011.212121</td>\n",
       "      <td>1.110098e+08</td>\n",
       "      <td>31119.138124</td>\n",
       "    </tr>\n",
       "    <tr>\n",
       "      <td>United Artists</td>\n",
       "      <td>3124.000000</td>\n",
       "      <td>2003.000000</td>\n",
       "      <td>3.566722e+07</td>\n",
       "      <td>11417.163252</td>\n",
       "    </tr>\n",
       "    <tr>\n",
       "      <td>Universal Pictures</td>\n",
       "      <td>3488.411765</td>\n",
       "      <td>2011.963235</td>\n",
       "      <td>1.249142e+08</td>\n",
       "      <td>34679.479571</td>\n",
       "    </tr>\n",
       "    <tr>\n",
       "      <td>Warner Bros.</td>\n",
       "      <td>3535.033654</td>\n",
       "      <td>2011.591346</td>\n",
       "      <td>1.203552e+08</td>\n",
       "      <td>32678.009110</td>\n",
       "    </tr>\n",
       "  </tbody>\n",
       "</table>\n",
       "</div>"
      ],
      "text/plain": [
       "                           max_theaters         year  total_dom_gross($)  \\\n",
       "studio                                                                     \n",
       "Disney                      3682.319728  2010.591837        2.026179e+08   \n",
       "DreamWorks Distribution     3408.263158  2002.947368        1.181983e+08   \n",
       "Lionsgate                   3356.244898  2014.469388        9.526829e+07   \n",
       "Metro-Goldwyn-Mayer (MGM)   3259.142857  2004.000000        7.843758e+07   \n",
       "New Line Cinema             3410.571429  2001.857143        2.497181e+08   \n",
       "Paramount Pictures          3466.705357  2010.714286        1.086149e+08   \n",
       "Sony                        3478.355556  2010.562963        1.166779e+08   \n",
       "TriStar Pictures            3146.000000  2014.000000        8.070322e+07   \n",
       "Twentieth Century Fox       3493.975758  2011.212121        1.110098e+08   \n",
       "United Artists              3124.000000  2003.000000        3.566722e+07   \n",
       "Universal Pictures          3488.411765  2011.963235        1.249142e+08   \n",
       "Warner Bros.                3535.033654  2011.591346        1.203552e+08   \n",
       "\n",
       "                           dollars_per_theater  \n",
       "studio                                          \n",
       "Disney                            51856.141904  \n",
       "DreamWorks Distribution           33102.055326  \n",
       "Lionsgate                         26485.343053  \n",
       "Metro-Goldwyn-Mayer (MGM)         23829.208308  \n",
       "New Line Cinema                   72518.242699  \n",
       "Paramount Pictures                30508.472763  \n",
       "Sony                              32626.668858  \n",
       "TriStar Pictures                  25546.753029  \n",
       "Twentieth Century Fox             31119.138124  \n",
       "United Artists                    11417.163252  \n",
       "Universal Pictures                34679.479571  \n",
       "Warner Bros.                      32678.009110  "
      ]
     },
     "execution_count": 31,
     "metadata": {},
     "output_type": "execute_result"
    }
   ],
   "source": [
    "#Let's see what the average is for max number of theaters and for gross per theater for each studio\n",
    "average_theaters = theaters_df.groupby('studio').mean()\n",
    "average_theaters_ranked = average_theaters.sort_values(by=['studio'],ascending=False)\n",
    "average_theaters_ranked.reset_index(inplace=True)\n",
    "average_theaters"
   ]
  },
  {
   "cell_type": "code",
   "execution_count": 43,
   "metadata": {
    "ExecuteTime": {
     "end_time": "2020-07-21T20:37:21.697202Z",
     "start_time": "2020-07-21T20:37:21.251626Z"
    },
    "scrolled": true
   },
   "outputs": [
    {
     "data": {
      "image/png": "[encoded data removed]",
      "text/plain": [
       "<Figure size 864x720 with 1 Axes>"
      ]
     },
     "metadata": {
      "needs_background": "light"
     },
     "output_type": "display_data"
    }
   ],
   "source": [
    "plt.figure(figsize=(12,10))\n",
    "sns.barplot(x='studio', y='dollars_per_theater', data=average_theaters_ranked)\n",
    "plt.xlabel('Studio', fontsize=12)\n",
    "plt.title(\"Average Domestic Gross Per Theater\", fontsize=14);\n",
    "plt.ylabel('Average Dollars Per Theater', fontsize=12);\n",
    "plt.xticks(rotation=35, horizontalalignment='right', fontsize=12);"
   ]
  },
  {
   "cell_type": "markdown",
   "metadata": {},
   "source": [
    "In the bar plot above, Disney and New Line Cinema stand out. We need to double check that there are an appropriate number of movies by each of these studios before jumping to conclusions."
   ]
  },
  {
   "cell_type": "code",
   "execution_count": 33,
   "metadata": {
    "ExecuteTime": {
     "end_time": "2020-07-21T20:36:23.961640Z",
     "start_time": "2020-07-21T20:36:23.949284Z"
    }
   },
   "outputs": [
    {
     "data": {
      "text/plain": [
       "Warner Bros.                 208\n",
       "Twentieth Century Fox        165\n",
       "Disney                       147\n",
       "Universal Pictures           136\n",
       "Sony                         135\n",
       "Paramount Pictures           112\n",
       "Lionsgate                     49\n",
       "DreamWorks Distribution       19\n",
       "Metro-Goldwyn-Mayer (MGM)     14\n",
       "TriStar Pictures               7\n",
       "New Line Cinema                7\n",
       "United Artists                 1\n",
       "Name: studio, dtype: int64"
      ]
     },
     "execution_count": 33,
     "metadata": {},
     "output_type": "execute_result"
    }
   ],
   "source": [
    "theaters_df['studio'].value_counts()"
   ]
  },
  {
   "cell_type": "markdown",
   "metadata": {},
   "source": [
    "We can see that New Line Cinema only has 7 movies in this dataframe which means that their average domestic gross per theater is going to be skewed.  Disney is certainly still a possibility and we should also consider Warner Bros. and Twentieth Century Fox."
   ]
  },
  {
   "cell_type": "code",
   "execution_count": 34,
   "metadata": {
    "ExecuteTime": {
     "end_time": "2020-07-21T20:36:24.653558Z",
     "start_time": "2020-07-21T20:36:23.964520Z"
    }
   },
   "outputs": [
    {
     "data": {
      "image/png": "[encoded data removed]",
      "text/plain": [
       "<Figure size 1152x576 with 1 Axes>"
      ]
     },
     "metadata": {
      "needs_background": "light"
     },
     "output_type": "display_data"
    }
   ],
   "source": [
    "sns.lmplot(x='max_theaters', y='total_dom_gross($)', data=average_theaters, height=8, aspect=2)\n",
    "plt.ticklabel_format(axis='y', style='sci', scilimits=(6,6))\n",
    "plt.xlabel('Average of Maximum Theater Showings by Major Studio', fontsize=12)\n",
    "plt.ylabel('Average Domestic Gross (Millions of Dollars)', fontsize=12)\n",
    "plt.title('Maximum Number of Theaters vs. Domestic Gross', fontsize=14);"
   ]
  },
  {
   "cell_type": "markdown",
   "metadata": {},
   "source": [
    "The scatter plot shows a positive trend between the average number of theaters and the average domestic gross. The sole outlier is New Line Cinemas due to how few movies they are associated with in our dataframe. Disney is farthest to the right and above the trend line further proving that they should be a strong consideration.\n",
    "\n",
    "We'll join the theater and awards dataframes so that we can see which studios have the best win rate at the Oscars."
   ]
  },
  {
   "cell_type": "code",
   "execution_count": 35,
   "metadata": {
    "ExecuteTime": {
     "end_time": "2020-07-21T20:36:24.665692Z",
     "start_time": "2020-07-21T20:36:24.657319Z"
    }
   },
   "outputs": [],
   "source": [
    "theaters_df.set_index(['title', 'year'], inplace=True)"
   ]
  },
  {
   "cell_type": "code",
   "execution_count": 36,
   "metadata": {
    "ExecuteTime": {
     "end_time": "2020-07-21T20:36:24.681380Z",
     "start_time": "2020-07-21T20:36:24.668011Z"
    }
   },
   "outputs": [],
   "source": [
    "theaters_and_awards = theaters_df.join(awards_df, how='inner', on=['title', 'year'])"
   ]
  },
  {
   "cell_type": "code",
   "execution_count": 37,
   "metadata": {
    "ExecuteTime": {
     "end_time": "2020-07-21T20:36:24.708837Z",
     "start_time": "2020-07-21T20:36:24.684341Z"
    }
   },
   "outputs": [
    {
     "data": {
      "text/html": [
       "<div>\n",
       "<style scoped>\n",
       "    .dataframe tbody tr th:only-of-type {\n",
       "        vertical-align: middle;\n",
       "    }\n",
       "\n",
       "    .dataframe tbody tr th {\n",
       "        vertical-align: top;\n",
       "    }\n",
       "\n",
       "    .dataframe thead th {\n",
       "        text-align: right;\n",
       "    }\n",
       "</style>\n",
       "<table border=\"1\" class=\"dataframe\">\n",
       "  <thead>\n",
       "    <tr style=\"text-align: right;\">\n",
       "      <th></th>\n",
       "      <th>max_theaters</th>\n",
       "      <th>total_dom_gross($)</th>\n",
       "      <th>dollars_per_theater</th>\n",
       "      <th>awards_won</th>\n",
       "      <th>awards_nominated</th>\n",
       "      <th>win_rate</th>\n",
       "    </tr>\n",
       "    <tr>\n",
       "      <th>studio</th>\n",
       "      <th></th>\n",
       "      <th></th>\n",
       "      <th></th>\n",
       "      <th></th>\n",
       "      <th></th>\n",
       "      <th></th>\n",
       "    </tr>\n",
       "  </thead>\n",
       "  <tbody>\n",
       "    <tr>\n",
       "      <td>Disney</td>\n",
       "      <td>22</td>\n",
       "      <td>22</td>\n",
       "      <td>22</td>\n",
       "      <td>22</td>\n",
       "      <td>22</td>\n",
       "      <td>22</td>\n",
       "    </tr>\n",
       "    <tr>\n",
       "      <td>DreamWorks Distribution</td>\n",
       "      <td>4</td>\n",
       "      <td>4</td>\n",
       "      <td>4</td>\n",
       "      <td>4</td>\n",
       "      <td>4</td>\n",
       "      <td>4</td>\n",
       "    </tr>\n",
       "    <tr>\n",
       "      <td>New Line Cinema</td>\n",
       "      <td>2</td>\n",
       "      <td>2</td>\n",
       "      <td>2</td>\n",
       "      <td>2</td>\n",
       "      <td>2</td>\n",
       "      <td>2</td>\n",
       "    </tr>\n",
       "    <tr>\n",
       "      <td>Paramount Pictures</td>\n",
       "      <td>7</td>\n",
       "      <td>7</td>\n",
       "      <td>7</td>\n",
       "      <td>7</td>\n",
       "      <td>7</td>\n",
       "      <td>7</td>\n",
       "    </tr>\n",
       "    <tr>\n",
       "      <td>Sony</td>\n",
       "      <td>6</td>\n",
       "      <td>6</td>\n",
       "      <td>6</td>\n",
       "      <td>6</td>\n",
       "      <td>6</td>\n",
       "      <td>6</td>\n",
       "    </tr>\n",
       "    <tr>\n",
       "      <td>Twentieth Century Fox</td>\n",
       "      <td>4</td>\n",
       "      <td>4</td>\n",
       "      <td>4</td>\n",
       "      <td>4</td>\n",
       "      <td>4</td>\n",
       "      <td>4</td>\n",
       "    </tr>\n",
       "    <tr>\n",
       "      <td>Universal Pictures</td>\n",
       "      <td>6</td>\n",
       "      <td>6</td>\n",
       "      <td>6</td>\n",
       "      <td>6</td>\n",
       "      <td>6</td>\n",
       "      <td>6</td>\n",
       "    </tr>\n",
       "    <tr>\n",
       "      <td>Warner Bros.</td>\n",
       "      <td>15</td>\n",
       "      <td>15</td>\n",
       "      <td>15</td>\n",
       "      <td>15</td>\n",
       "      <td>15</td>\n",
       "      <td>15</td>\n",
       "    </tr>\n",
       "  </tbody>\n",
       "</table>\n",
       "</div>"
      ],
      "text/plain": [
       "                         max_theaters  total_dom_gross($)  \\\n",
       "studio                                                      \n",
       "Disney                             22                  22   \n",
       "DreamWorks Distribution             4                   4   \n",
       "New Line Cinema                     2                   2   \n",
       "Paramount Pictures                  7                   7   \n",
       "Sony                                6                   6   \n",
       "Twentieth Century Fox               4                   4   \n",
       "Universal Pictures                  6                   6   \n",
       "Warner Bros.                       15                  15   \n",
       "\n",
       "                         dollars_per_theater  awards_won  awards_nominated  \\\n",
       "studio                                                                       \n",
       "Disney                                    22          22                22   \n",
       "DreamWorks Distribution                    4           4                 4   \n",
       "New Line Cinema                            2           2                 2   \n",
       "Paramount Pictures                         7           7                 7   \n",
       "Sony                                       6           6                 6   \n",
       "Twentieth Century Fox                      4           4                 4   \n",
       "Universal Pictures                         6           6                 6   \n",
       "Warner Bros.                              15          15                15   \n",
       "\n",
       "                         win_rate  \n",
       "studio                             \n",
       "Disney                         22  \n",
       "DreamWorks Distribution         4  \n",
       "New Line Cinema                 2  \n",
       "Paramount Pictures              7  \n",
       "Sony                            6  \n",
       "Twentieth Century Fox           4  \n",
       "Universal Pictures              6  \n",
       "Warner Bros.                   15  "
      ]
     },
     "execution_count": 37,
     "metadata": {},
     "output_type": "execute_result"
    }
   ],
   "source": [
    "theaters_and_awards.groupby('studio').count()"
   ]
  },
  {
   "cell_type": "code",
   "execution_count": 38,
   "metadata": {
    "ExecuteTime": {
     "end_time": "2020-07-21T20:36:24.740011Z",
     "start_time": "2020-07-21T20:36:24.712221Z"
    },
    "scrolled": true
   },
   "outputs": [
    {
     "data": {
      "text/html": [
       "<div>\n",
       "<style scoped>\n",
       "    .dataframe tbody tr th:only-of-type {\n",
       "        vertical-align: middle;\n",
       "    }\n",
       "\n",
       "    .dataframe tbody tr th {\n",
       "        vertical-align: top;\n",
       "    }\n",
       "\n",
       "    .dataframe thead th {\n",
       "        text-align: right;\n",
       "    }\n",
       "</style>\n",
       "<table border=\"1\" class=\"dataframe\">\n",
       "  <thead>\n",
       "    <tr style=\"text-align: right;\">\n",
       "      <th></th>\n",
       "      <th>max_theaters</th>\n",
       "      <th>total_dom_gross($)</th>\n",
       "      <th>dollars_per_theater</th>\n",
       "      <th>awards_won</th>\n",
       "      <th>awards_nominated</th>\n",
       "      <th>win_rate</th>\n",
       "    </tr>\n",
       "    <tr>\n",
       "      <th>studio</th>\n",
       "      <th></th>\n",
       "      <th></th>\n",
       "      <th></th>\n",
       "      <th></th>\n",
       "      <th></th>\n",
       "      <th></th>\n",
       "    </tr>\n",
       "  </thead>\n",
       "  <tbody>\n",
       "    <tr>\n",
       "      <td>Disney</td>\n",
       "      <td>3818.727273</td>\n",
       "      <td>3.052172e+08</td>\n",
       "      <td>78797.606486</td>\n",
       "      <td>1.363636</td>\n",
       "      <td>3.000000</td>\n",
       "      <td>0.599045</td>\n",
       "    </tr>\n",
       "    <tr>\n",
       "      <td>DreamWorks Distribution</td>\n",
       "      <td>3444.250000</td>\n",
       "      <td>1.532236e+08</td>\n",
       "      <td>44447.628709</td>\n",
       "      <td>2.000000</td>\n",
       "      <td>4.250000</td>\n",
       "      <td>0.604250</td>\n",
       "    </tr>\n",
       "    <tr>\n",
       "      <td>New Line Cinema</td>\n",
       "      <td>3662.500000</td>\n",
       "      <td>3.584086e+08</td>\n",
       "      <td>97814.750337</td>\n",
       "      <td>6.500000</td>\n",
       "      <td>8.500000</td>\n",
       "      <td>0.666500</td>\n",
       "    </tr>\n",
       "    <tr>\n",
       "      <td>Paramount Pictures</td>\n",
       "      <td>3564.857143</td>\n",
       "      <td>1.408354e+08</td>\n",
       "      <td>38930.819127</td>\n",
       "      <td>1.000000</td>\n",
       "      <td>3.714286</td>\n",
       "      <td>0.451143</td>\n",
       "    </tr>\n",
       "    <tr>\n",
       "      <td>Sony</td>\n",
       "      <td>3653.666667</td>\n",
       "      <td>2.378423e+08</td>\n",
       "      <td>64720.228079</td>\n",
       "      <td>1.166667</td>\n",
       "      <td>3.166667</td>\n",
       "      <td>0.538833</td>\n",
       "    </tr>\n",
       "    <tr>\n",
       "      <td>Twentieth Century Fox</td>\n",
       "      <td>3501.750000</td>\n",
       "      <td>1.368749e+08</td>\n",
       "      <td>38404.788199</td>\n",
       "      <td>2.250000</td>\n",
       "      <td>6.000000</td>\n",
       "      <td>0.425000</td>\n",
       "    </tr>\n",
       "    <tr>\n",
       "      <td>Universal Pictures</td>\n",
       "      <td>3338.833333</td>\n",
       "      <td>1.493447e+08</td>\n",
       "      <td>44970.820343</td>\n",
       "      <td>1.333333</td>\n",
       "      <td>3.333333</td>\n",
       "      <td>0.505500</td>\n",
       "    </tr>\n",
       "    <tr>\n",
       "      <td>Warner Bros.</td>\n",
       "      <td>3831.600000</td>\n",
       "      <td>2.340559e+08</td>\n",
       "      <td>60023.038417</td>\n",
       "      <td>2.666667</td>\n",
       "      <td>5.866667</td>\n",
       "      <td>0.557400</td>\n",
       "    </tr>\n",
       "  </tbody>\n",
       "</table>\n",
       "</div>"
      ],
      "text/plain": [
       "                         max_theaters  total_dom_gross($)  \\\n",
       "studio                                                      \n",
       "Disney                    3818.727273        3.052172e+08   \n",
       "DreamWorks Distribution   3444.250000        1.532236e+08   \n",
       "New Line Cinema           3662.500000        3.584086e+08   \n",
       "Paramount Pictures        3564.857143        1.408354e+08   \n",
       "Sony                      3653.666667        2.378423e+08   \n",
       "Twentieth Century Fox     3501.750000        1.368749e+08   \n",
       "Universal Pictures        3338.833333        1.493447e+08   \n",
       "Warner Bros.              3831.600000        2.340559e+08   \n",
       "\n",
       "                         dollars_per_theater  awards_won  awards_nominated  \\\n",
       "studio                                                                       \n",
       "Disney                          78797.606486    1.363636          3.000000   \n",
       "DreamWorks Distribution         44447.628709    2.000000          4.250000   \n",
       "New Line Cinema                 97814.750337    6.500000          8.500000   \n",
       "Paramount Pictures              38930.819127    1.000000          3.714286   \n",
       "Sony                            64720.228079    1.166667          3.166667   \n",
       "Twentieth Century Fox           38404.788199    2.250000          6.000000   \n",
       "Universal Pictures              44970.820343    1.333333          3.333333   \n",
       "Warner Bros.                    60023.038417    2.666667          5.866667   \n",
       "\n",
       "                         win_rate  \n",
       "studio                             \n",
       "Disney                   0.599045  \n",
       "DreamWorks Distribution  0.604250  \n",
       "New Line Cinema          0.666500  \n",
       "Paramount Pictures       0.451143  \n",
       "Sony                     0.538833  \n",
       "Twentieth Century Fox    0.425000  \n",
       "Universal Pictures       0.505500  \n",
       "Warner Bros.             0.557400  "
      ]
     },
     "execution_count": 38,
     "metadata": {},
     "output_type": "execute_result"
    }
   ],
   "source": [
    "theaters_and_awards.groupby('studio').mean()"
   ]
  },
  {
   "cell_type": "markdown",
   "metadata": {},
   "source": [
    "Unfortunately, the joining of the dataframes only left us with 66 common movies. We would prefer to have more data to be more confident in establishing trends. We will consider the average number of theaters and average win rate to make a determination.  Disney is associated with 22 movies in our joined dataframe while Warner Bros. is associated with 15.  Warner. Bros does have a higher average for the number of theaters, however Disney has a noticeable $18,000 advantage in average domestic gross per theater. Disney also has the higher win rate for Oscars at nearly 60%.\n",
    "\n",
    "**Question 8 Conclusion**: Microsoft should partner with Disney based upon domestic gross per theater and win rate."
   ]
  }
 ],
 "metadata": {
  "kernelspec": {
   "display_name": "learn-env",
   "language": "python",
   "name": "learn-env"
  },
  "language_info": {
   "codemirror_mode": {
    "name": "ipython",
    "version": 3
   },
   "file_extension": ".py",
   "mimetype": "text/x-python",
   "name": "python",
   "nbconvert_exporter": "python",
   "pygments_lexer": "ipython3",
   "version": "3.6.9"
  },
  "toc": {
   "base_numbering": 1,
   "nav_menu": {},
   "number_sections": false,
   "sideBar": true,
   "skip_h1_title": false,
   "title_cell": "Table of Contents",
   "title_sidebar": "Contents",
   "toc_cell": false,
   "toc_position": {},
   "toc_section_display": true,
   "toc_window_display": false
  },
  "varInspector": {
   "cols": {
    "lenName": 16,
    "lenType": 16,
    "lenVar": 40
   },
   "kernels_config": {
    "python": {
     "delete_cmd_postfix": "",
     "delete_cmd_prefix": "del ",
     "library": "var_list.py",
     "varRefreshCmd": "print(var_dic_list())"
    },
    "r": {
     "delete_cmd_postfix": ") ",
     "delete_cmd_prefix": "rm(",
     "library": "var_list.r",
     "varRefreshCmd": "cat(var_dic_list()) "
    }
   },
   "types_to_exclude": [
    "module",
    "function",
    "builtin_function_or_method",
    "instance",
    "_Feature"
   ],
   "window_display": false
  }
 },
 "nbformat": 4,
 "nbformat_minor": 2
}
